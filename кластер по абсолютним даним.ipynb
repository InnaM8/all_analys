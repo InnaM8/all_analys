{
 "cells": [
  {
   "cell_type": "code",
   "execution_count": 60,
   "id": "c87b28dd",
   "metadata": {},
   "outputs": [],
   "source": [
    "#!pip install numpy\n",
    "#!pip install matplotlib\n",
    "#!pip install pandas\n",
    "#!pip install openpyxl"
   ]
  },
  {
   "cell_type": "code",
   "execution_count": 61,
   "id": "b26b2ec2",
   "metadata": {},
   "outputs": [],
   "source": [
    "#Importing the libraries\n",
    "import numpy as np\n",
    "import matplotlib.pyplot as plt\n",
    "import pandas as pd"
   ]
  },
  {
   "cell_type": "code",
   "execution_count": 62,
   "id": "f5b3333b",
   "metadata": {},
   "outputs": [
    {
     "data": {
      "text/html": [
       "<div>\n",
       "<style scoped>\n",
       "    .dataframe tbody tr th:only-of-type {\n",
       "        vertical-align: middle;\n",
       "    }\n",
       "\n",
       "    .dataframe tbody tr th {\n",
       "        vertical-align: top;\n",
       "    }\n",
       "\n",
       "    .dataframe thead th {\n",
       "        text-align: right;\n",
       "    }\n",
       "</style>\n",
       "<table border=\"1\" class=\"dataframe\">\n",
       "  <thead>\n",
       "    <tr style=\"text-align: right;\">\n",
       "      <th></th>\n",
       "      <th>Країна</th>\n",
       "      <th>Офшорні статки</th>\n",
       "      <th>Номінал. ВВП</th>\n",
       "      <th>Загальні податкові втрати</th>\n",
       "      <th>Втрати від под. уникнення</th>\n",
       "      <th>Втрати від под. ухилення</th>\n",
       "      <th>Податк. надходження</th>\n",
       "      <th>Населення</th>\n",
       "    </tr>\n",
       "  </thead>\n",
       "  <tbody>\n",
       "    <tr>\n",
       "      <th>100</th>\n",
       "      <td>Мавританія</td>\n",
       "      <td>300</td>\n",
       "      <td>8176</td>\n",
       "      <td>18.723821</td>\n",
       "      <td>12.434212</td>\n",
       "      <td>6.289609</td>\n",
       "      <td>1010.994026</td>\n",
       "      <td>4.259680</td>\n",
       "    </tr>\n",
       "    <tr>\n",
       "      <th>94</th>\n",
       "      <td>Малаві</td>\n",
       "      <td>400</td>\n",
       "      <td>8488</td>\n",
       "      <td>56.666998</td>\n",
       "      <td>51.252255</td>\n",
       "      <td>5.414743</td>\n",
       "      <td>1070.312096</td>\n",
       "      <td>17.580067</td>\n",
       "    </tr>\n",
       "    <tr>\n",
       "      <th>35</th>\n",
       "      <td>Республіка Конго</td>\n",
       "      <td>800</td>\n",
       "      <td>10232</td>\n",
       "      <td>12.966239</td>\n",
       "      <td>0.791371</td>\n",
       "      <td>12.174869</td>\n",
       "      <td>1420.133709</td>\n",
       "      <td>5.093813</td>\n",
       "    </tr>\n",
       "    <tr>\n",
       "      <th>88</th>\n",
       "      <td>Ліберія</td>\n",
       "      <td>13900</td>\n",
       "      <td>3033</td>\n",
       "      <td>193.892151</td>\n",
       "      <td>0.000000</td>\n",
       "      <td>193.892151</td>\n",
       "      <td>368.120225</td>\n",
       "      <td>4.677510</td>\n",
       "    </tr>\n",
       "    <tr>\n",
       "      <th>90</th>\n",
       "      <td>Литва</td>\n",
       "      <td>1200</td>\n",
       "      <td>55688</td>\n",
       "      <td>99.781709</td>\n",
       "      <td>90.652973</td>\n",
       "      <td>9.128736</td>\n",
       "      <td>7958.649650</td>\n",
       "      <td>2.888272</td>\n",
       "    </tr>\n",
       "  </tbody>\n",
       "</table>\n",
       "</div>"
      ],
      "text/plain": [
       "               Країна  Офшорні статки  Номінал. ВВП  \\\n",
       "100        Мавританія             300          8176   \n",
       "94             Малаві             400          8488   \n",
       "35   Республіка Конго             800         10232   \n",
       "88            Ліберія           13900          3033   \n",
       "90              Литва            1200         55688   \n",
       "\n",
       "     Загальні податкові втрати  Втрати від под. уникнення  \\\n",
       "100                  18.723821                  12.434212   \n",
       "94                   56.666998                  51.252255   \n",
       "35                   12.966239                   0.791371   \n",
       "88                  193.892151                   0.000000   \n",
       "90                   99.781709                  90.652973   \n",
       "\n",
       "     Втрати від под. ухилення  Податк. надходження  Населення  \n",
       "100                  6.289609          1010.994026   4.259680  \n",
       "94                   5.414743          1070.312096  17.580067  \n",
       "35                  12.174869          1420.133709   5.093813  \n",
       "88                 193.892151           368.120225   4.677510  \n",
       "90                   9.128736          7958.649650   2.888272  "
      ]
     },
     "execution_count": 62,
     "metadata": {},
     "output_type": "execute_result"
    }
   ],
   "source": [
    "df=pd.read_excel('док1.xlsx', sheet_name='Лист2')\n",
    "df.sample(5) #эта команда выведет пять случайных строк таблицы, таблица не отобразиться полностью"
   ]
  },
  {
   "cell_type": "code",
   "execution_count": 63,
   "id": "a5cbbd89",
   "metadata": {},
   "outputs": [
    {
     "name": "stdout",
     "output_type": "stream",
     "text": [
      "<class 'pandas.core.frame.DataFrame'>\n",
      "RangeIndex: 174 entries, 0 to 173\n",
      "Data columns (total 8 columns):\n",
      " #   Column                     Non-Null Count  Dtype  \n",
      "---  ------                     --------------  -----  \n",
      " 0   Країна                     174 non-null    object \n",
      " 1   Офшорні статки             174 non-null    int64  \n",
      " 2   Номінал. ВВП               174 non-null    int64  \n",
      " 3   Загальні податкові втрати  174 non-null    float64\n",
      " 4   Втрати від под. уникнення  174 non-null    float64\n",
      " 5   Втрати від под. ухилення   174 non-null    float64\n",
      " 6   Податк. надходження        174 non-null    float64\n",
      " 7   Населення                  174 non-null    float64\n",
      "dtypes: float64(5), int64(2), object(1)\n",
      "memory usage: 11.0+ KB\n"
     ]
    }
   ],
   "source": [
    "df.info()"
   ]
  },
  {
   "cell_type": "code",
   "execution_count": 64,
   "id": "fdd89462",
   "metadata": {},
   "outputs": [],
   "source": [
    "# Drop useless\n",
    "df = df.drop(['Країна'], axis='columns', inplace=False)"
   ]
  },
  {
   "cell_type": "code",
   "execution_count": 65,
   "id": "9780e2b8",
   "metadata": {},
   "outputs": [
    {
     "data": {
      "text/plain": [
       "Index(['Офшорні статки', 'Номінал. ВВП', 'Загальні податкові втрати',\n",
       "       'Втрати від под. уникнення', 'Втрати від под. ухилення',\n",
       "       'Податк. надходження', 'Населення'],\n",
       "      dtype='object')"
      ]
     },
     "execution_count": 65,
     "metadata": {},
     "output_type": "execute_result"
    }
   ],
   "source": [
    "df.columns"
   ]
  },
  {
   "cell_type": "code",
   "execution_count": 66,
   "id": "789f2b5b",
   "metadata": {},
   "outputs": [
    {
     "data": {
      "image/png": "[encoded data removed]",
      "text/plain": [
       "<Figure size 864x648 with 2 Axes>"
      ]
     },
     "metadata": {
      "needs_background": "light"
     },
     "output_type": "display_data"
    }
   ],
   "source": [
    "# Cheking correlations\n",
    "import seaborn as sns\n",
    "corrmat = df.corr()\n",
    "f, ax = plt.subplots(figsize=(12, 9))\n",
    "sns.heatmap(corrmat, annot=True)\n",
    "plt.show()"
   ]
  },
  {
   "cell_type": "markdown",
   "id": "abeb8364",
   "metadata": {},
   "source": [
    "# Hierarchical Clustering"
   ]
  },
  {
   "cell_type": "code",
   "execution_count": 67,
   "id": "74a00f84",
   "metadata": {},
   "outputs": [],
   "source": [
    "# Function Encoding\n",
    "def encoding_char(x):\n",
    "    char_var = list(set(x.columns) - set(x._get_numeric_data().columns))\n",
    "    for col_names in char_var:\n",
    "        f = pd.factorize(x[col_names])\n",
    "        x[col_names] = pd.factorize(x[col_names])[0]\n",
    "    return(x)"
   ]
  },
  {
   "cell_type": "code",
   "execution_count": 68,
   "id": "df74a6e3",
   "metadata": {},
   "outputs": [],
   "source": [
    "# Encoding categorical data\n",
    "df = encoding_char(df)"
   ]
  },
  {
   "cell_type": "code",
   "execution_count": 69,
   "id": "e4f3167f",
   "metadata": {},
   "outputs": [],
   "source": [
    "# Feature Scaling\n",
    "from sklearn.preprocessing import MinMaxScaler\n",
    "sc = MinMaxScaler().fit(df)\n",
    "df = sc.transform(df)\n",
    "df = pd.DataFrame(df, columns = ['Офшорні статки', 'Номінал. ВВП', 'Загальні податкові втрати',\n",
    "       'Втрати від под. уникнення', 'Втрати від под. ухилення',\n",
    "       'Податк. надходження', 'Населення']).round(2)"
   ]
  },
  {
   "cell_type": "code",
   "execution_count": 70,
   "id": "fedb7546",
   "metadata": {},
   "outputs": [
    {
     "data": {
      "image/png": "[encoded data removed]",
      "text/plain": [
       "<Figure size 432x288 with 1 Axes>"
      ]
     },
     "metadata": {
      "needs_background": "light"
     },
     "output_type": "display_data"
    }
   ],
   "source": [
    "# Using the dendrogram to find the optimal number of clusters\n",
    "import scipy.cluster.hierarchy as sch\n",
    "dendrogram = sch.dendrogram(sch.linkage(df, method = 'ward'))\n",
    "plt.title('Dendrogram')\n",
    "plt.xlabel('outlets')\n",
    "plt.ylabel('Euclidean distances')\n",
    "plt.show()"
   ]
  },
  {
   "cell_type": "markdown",
   "id": "aa47e952",
   "metadata": {},
   "source": [
    "# K-Means Clustering"
   ]
  },
  {
   "cell_type": "code",
   "execution_count": 71,
   "id": "b94a9a3d",
   "metadata": {},
   "outputs": [
    {
     "name": "stderr",
     "output_type": "stream",
     "text": [
      "C:\\Users\\User\\anaconda3\\lib\\site-packages\\sklearn\\cluster\\_kmeans.py:881: UserWarning: KMeans is known to have a memory leak on Windows with MKL, when there are less chunks than available threads. You can avoid it by setting the environment variable OMP_NUM_THREADS=1.\n",
      "  warnings.warn(\n"
     ]
    },
    {
     "data": {
      "image/png": "[encoded data removed]",
      "text/plain": [
       "<Figure size 432x288 with 1 Axes>"
      ]
     },
     "metadata": {
      "needs_background": "light"
     },
     "output_type": "display_data"
    }
   ],
   "source": [
    "# Using the elbow method to find the optimal number of clusters\n",
    "from sklearn.cluster import KMeans\n",
    "wcss = []\n",
    "for i in range(1, 11):\n",
    "    kmeans = KMeans(n_clusters = i, init = 'k-means++', random_state = 0)\n",
    "    kmeans.fit(df)\n",
    "    wcss.append(kmeans.inertia_)\n",
    "plt.plot(range(1, 11), wcss)\n",
    "plt.title('The Elbow Method')\n",
    "plt.xlabel('Number of clusters')\n",
    "plt.ylabel('WCSS')\n",
    "plt.show()"
   ]
  },
  {
   "cell_type": "code",
   "execution_count": 72,
   "id": "f3b22664",
   "metadata": {},
   "outputs": [
    {
     "data": {
      "image/png": "[encoded data removed]",
      "text/plain": [
       "<Figure size 432x288 with 1 Axes>"
      ]
     },
     "metadata": {
      "needs_background": "light"
     },
     "output_type": "display_data"
    },
    {
     "name": "stdout",
     "output_type": "stream",
     "text": [
      "2:0.9197446211509869\n",
      "3:0.902573783670607\n",
      "4:0.8408823428725591\n",
      "5:0.7846336948244271\n"
     ]
    }
   ],
   "source": [
    "# Using the silhouette method to find the optimal number of clusters\n",
    "from sklearn.metrics import silhouette_score\n",
    "\n",
    "sil = []\n",
    "\n",
    "for k in range(2, 6):\n",
    "  kmeans = KMeans(n_clusters = k).fit(df)  \n",
    "  preds = kmeans.fit_predict(df)\n",
    "  sil.append(silhouette_score(df, preds, metric = 'euclidean'))\n",
    "\n",
    "\n",
    "plt.plot(range(2, 6), sil)\n",
    "plt.title('Silhouette Method')\n",
    "plt.xlabel('Number of clusters')\n",
    "plt.ylabel('Sil')\n",
    "plt.show()\n",
    "\n",
    "for i in range(len(sil)):\n",
    " print(str(i+2) +\":\"+ str(sil[i]))"
   ]
  },
  {
   "cell_type": "code",
   "execution_count": 73,
   "id": "e964e0f9",
   "metadata": {},
   "outputs": [
    {
     "data": {
      "text/html": [
       "<div>\n",
       "<style scoped>\n",
       "    .dataframe tbody tr th:only-of-type {\n",
       "        vertical-align: middle;\n",
       "    }\n",
       "\n",
       "    .dataframe tbody tr th {\n",
       "        vertical-align: top;\n",
       "    }\n",
       "\n",
       "    .dataframe thead th {\n",
       "        text-align: right;\n",
       "    }\n",
       "</style>\n",
       "<table border=\"1\" class=\"dataframe\">\n",
       "  <thead>\n",
       "    <tr style=\"text-align: right;\">\n",
       "      <th></th>\n",
       "      <th>Офшорні статки</th>\n",
       "      <th>Номінал. ВВП</th>\n",
       "      <th>Загальні податкові втрати</th>\n",
       "      <th>Втрати від под. уникнення</th>\n",
       "      <th>Втрати від под. ухилення</th>\n",
       "      <th>Податк. надходження</th>\n",
       "      <th>Населення</th>\n",
       "    </tr>\n",
       "  </thead>\n",
       "  <tbody>\n",
       "    <tr>\n",
       "      <th>0</th>\n",
       "      <td>0.01</td>\n",
       "      <td>0.01</td>\n",
       "      <td>0.01</td>\n",
       "      <td>0.01</td>\n",
       "      <td>0.01</td>\n",
       "      <td>0.01</td>\n",
       "      <td>0.02</td>\n",
       "    </tr>\n",
       "    <tr>\n",
       "      <th>1</th>\n",
       "      <td>1.00</td>\n",
       "      <td>1.00</td>\n",
       "      <td>1.00</td>\n",
       "      <td>1.00</td>\n",
       "      <td>1.00</td>\n",
       "      <td>1.00</td>\n",
       "      <td>0.23</td>\n",
       "    </tr>\n",
       "    <tr>\n",
       "      <th>2</th>\n",
       "      <td>0.29</td>\n",
       "      <td>0.28</td>\n",
       "      <td>0.31</td>\n",
       "      <td>0.27</td>\n",
       "      <td>0.36</td>\n",
       "      <td>0.33</td>\n",
       "      <td>0.29</td>\n",
       "    </tr>\n",
       "  </tbody>\n",
       "</table>\n",
       "</div>"
      ],
      "text/plain": [
       "   Офшорні статки  Номінал. ВВП  Загальні податкові втрати  \\\n",
       "0            0.01          0.01                       0.01   \n",
       "1            1.00          1.00                       1.00   \n",
       "2            0.29          0.28                       0.31   \n",
       "\n",
       "   Втрати від под. уникнення  Втрати від под. ухилення  Податк. надходження  \\\n",
       "0                       0.01                      0.01                 0.01   \n",
       "1                       1.00                      1.00                 1.00   \n",
       "2                       0.27                      0.36                 0.33   \n",
       "\n",
       "   Населення  \n",
       "0       0.02  \n",
       "1       0.23  \n",
       "2       0.29  "
      ]
     },
     "execution_count": 73,
     "metadata": {},
     "output_type": "execute_result"
    }
   ],
   "source": [
    "# Fitting K-Means to the dataset\n",
    "km = KMeans(n_clusters = 3, init = 'k-means++', random_state = 0).fit_predict(df)\n",
    "kms = KMeans(n_clusters = 3, random_state = 0).fit(df)\n",
    "pd.DataFrame(kms.cluster_centers_, columns = ['Офшорні статки', 'Номінал. ВВП', 'Загальні податкові втрати',\n",
    "       'Втрати від под. уникнення', 'Втрати від под. ухилення',\n",
    "       'Податк. надходження', 'Населення']).round(2)"
   ]
  },
  {
   "cell_type": "code",
   "execution_count": 74,
   "id": "762ba168",
   "metadata": {},
   "outputs": [
    {
     "data": {
      "text/html": [
       "<div>\n",
       "<style scoped>\n",
       "    .dataframe tbody tr th:only-of-type {\n",
       "        vertical-align: middle;\n",
       "    }\n",
       "\n",
       "    .dataframe tbody tr th {\n",
       "        vertical-align: top;\n",
       "    }\n",
       "\n",
       "    .dataframe thead th {\n",
       "        text-align: right;\n",
       "    }\n",
       "</style>\n",
       "<table border=\"1\" class=\"dataframe\">\n",
       "  <thead>\n",
       "    <tr style=\"text-align: right;\">\n",
       "      <th></th>\n",
       "      <th>Офшорні статки</th>\n",
       "      <th>Номінал. ВВП</th>\n",
       "      <th>Загальні податкові втрати</th>\n",
       "      <th>Втрати від под. уникнення</th>\n",
       "      <th>Втрати від под. ухилення</th>\n",
       "      <th>Податк. надходження</th>\n",
       "      <th>Населення</th>\n",
       "    </tr>\n",
       "  </thead>\n",
       "  <tbody>\n",
       "    <tr>\n",
       "      <th>0</th>\n",
       "      <td>0.01</td>\n",
       "      <td>0.01</td>\n",
       "      <td>0.01</td>\n",
       "      <td>0.01</td>\n",
       "      <td>0.00</td>\n",
       "      <td>0.01</td>\n",
       "      <td>0.02</td>\n",
       "    </tr>\n",
       "    <tr>\n",
       "      <th>1</th>\n",
       "      <td>1.00</td>\n",
       "      <td>1.00</td>\n",
       "      <td>1.00</td>\n",
       "      <td>1.00</td>\n",
       "      <td>1.00</td>\n",
       "      <td>1.00</td>\n",
       "      <td>0.23</td>\n",
       "    </tr>\n",
       "    <tr>\n",
       "      <th>2</th>\n",
       "      <td>0.23</td>\n",
       "      <td>0.70</td>\n",
       "      <td>0.17</td>\n",
       "      <td>0.08</td>\n",
       "      <td>0.28</td>\n",
       "      <td>0.67</td>\n",
       "      <td>1.00</td>\n",
       "    </tr>\n",
       "    <tr>\n",
       "      <th>3</th>\n",
       "      <td>0.60</td>\n",
       "      <td>0.13</td>\n",
       "      <td>0.44</td>\n",
       "      <td>0.21</td>\n",
       "      <td>0.73</td>\n",
       "      <td>0.20</td>\n",
       "      <td>0.05</td>\n",
       "    </tr>\n",
       "    <tr>\n",
       "      <th>4</th>\n",
       "      <td>0.10</td>\n",
       "      <td>0.14</td>\n",
       "      <td>0.21</td>\n",
       "      <td>0.27</td>\n",
       "      <td>0.13</td>\n",
       "      <td>0.20</td>\n",
       "      <td>0.08</td>\n",
       "    </tr>\n",
       "    <tr>\n",
       "      <th>5</th>\n",
       "      <td>0.22</td>\n",
       "      <td>0.02</td>\n",
       "      <td>0.14</td>\n",
       "      <td>0.01</td>\n",
       "      <td>0.29</td>\n",
       "      <td>0.02</td>\n",
       "      <td>0.00</td>\n",
       "    </tr>\n",
       "  </tbody>\n",
       "</table>\n",
       "</div>"
      ],
      "text/plain": [
       "   Офшорні статки  Номінал. ВВП  Загальні податкові втрати  \\\n",
       "0            0.01          0.01                       0.01   \n",
       "1            1.00          1.00                       1.00   \n",
       "2            0.23          0.70                       0.17   \n",
       "3            0.60          0.13                       0.44   \n",
       "4            0.10          0.14                       0.21   \n",
       "5            0.22          0.02                       0.14   \n",
       "\n",
       "   Втрати від под. уникнення  Втрати від под. ухилення  Податк. надходження  \\\n",
       "0                       0.01                      0.00                 0.01   \n",
       "1                       1.00                      1.00                 1.00   \n",
       "2                       0.08                      0.28                 0.67   \n",
       "3                       0.21                      0.73                 0.20   \n",
       "4                       0.27                      0.13                 0.20   \n",
       "5                       0.01                      0.29                 0.02   \n",
       "\n",
       "   Населення  \n",
       "0       0.02  \n",
       "1       0.23  \n",
       "2       1.00  \n",
       "3       0.05  \n",
       "4       0.08  \n",
       "5       0.00  "
      ]
     },
     "execution_count": 74,
     "metadata": {},
     "output_type": "execute_result"
    }
   ],
   "source": [
    "# Fitting K-Means to the dataset\n",
    "km = KMeans(n_clusters = 6, init = 'k-means++', random_state = 0).fit_predict(df)\n",
    "kms = KMeans(n_clusters = 6, random_state = 0).fit(df)\n",
    "pd.DataFrame(kms.cluster_centers_, columns = ['Офшорні статки', 'Номінал. ВВП', 'Загальні податкові втрати',\n",
    "       'Втрати від под. уникнення', 'Втрати від под. ухилення',\n",
    "       'Податк. надходження', 'Населення']).round(2)"
   ]
  },
  {
   "cell_type": "code",
   "execution_count": 75,
   "id": "48cd6ec5",
   "metadata": {},
   "outputs": [
    {
     "data": {
      "text/plain": [
       "Index(['Офшорні статки', 'Номінал. ВВП', 'Загальні податкові втрати',\n",
       "       'Втрати від под. уникнення', 'Втрати від под. ухилення',\n",
       "       'Податк. надходження', 'Населення'],\n",
       "      dtype='object')"
      ]
     },
     "execution_count": 75,
     "metadata": {},
     "output_type": "execute_result"
    }
   ],
   "source": [
    "df.columns #ниже выводит список столцов, удобно для копирования"
   ]
  },
  {
   "cell_type": "code",
   "execution_count": 76,
   "id": "c08aebde",
   "metadata": {},
   "outputs": [],
   "source": [
    "col=['Офшорні статки', 'Номінал. ВВП', 'Загальні податкові втрати',\n",
    "       'Втрати від под. уникнення', 'Втрати від под. ухилення',\n",
    "       'Податк. надходження', 'Населення'] # !!!!!! укажите количественные (int, float) столбцы, \n",
    "#                                       по которым выполним кластеризацию"
   ]
  },
  {
   "cell_type": "code",
   "execution_count": 77,
   "id": "60db32cc",
   "metadata": {},
   "outputs": [],
   "source": [
    "# загружаем библиотеку препроцесинга данных\n",
    "# эта библиотека автоматически приведен данные к нормальным значениям\n",
    "from sklearn import preprocessing\n",
    "dataNorm = preprocessing.MinMaxScaler().fit_transform(df[col].values)"
   ]
  },
  {
   "cell_type": "code",
   "execution_count": 78,
   "id": "75a29d9d",
   "metadata": {},
   "outputs": [],
   "source": [
    "# загрузим библиотеки\n",
    "# данные библиотеки являются стандартными для пакета Anaconda\n",
    "import pandas as pd\n",
    "from scipy.spatial.distance import pdist\n",
    "from scipy.cluster.hierarchy import *\n",
    "from matplotlib import pyplot as plt\n",
    "from matplotlib import rc\n",
    "import numpy as np\n",
    "from sklearn.cluster import KMeans\n",
    "#данная строчка нужна для корректного отображения графиков\n",
    "%matplotlib inline "
   ]
  },
  {
   "cell_type": "code",
   "execution_count": 79,
   "id": "7a55736f",
   "metadata": {},
   "outputs": [],
   "source": [
    "# Вычислим расстояния между каждым набором данных,\n",
    "# т.е. строками массива data_for_clust\n",
    "# Вычисляется евклидово расстояние (по умолчанию)\n",
    "data_dist = pdist(dataNorm, 'euclidean')\n",
    "# Главная функция иерархической кластеризии\n",
    "# Объедение элементов в кластера и сохранение в \n",
    "# специальной переменной (используется ниже для визуализации \n",
    "# и выделения количества кластеров\n",
    "data_linkage = linkage(data_dist, method='average')"
   ]
  },
  {
   "cell_type": "code",
   "execution_count": 80,
   "id": "f2b71f1d",
   "metadata": {},
   "outputs": [
    {
     "data": {
      "image/png": "[encoded data removed]",
      "text/plain": [
       "<Figure size 432x288 with 1 Axes>"
      ]
     },
     "metadata": {
      "needs_background": "light"
     },
     "output_type": "display_data"
    },
    {
     "name": "stdout",
     "output_type": "stream",
     "text": [
      "Рекомендованное количество кластеров: 2\n"
     ]
    }
   ],
   "source": [
    "# Метод локтя. Позволячет оценить оптимальное количество сегментов.\n",
    "# Показывает сумму внутри групповых вариаций\n",
    "last = data_linkage[-10:, 2]\n",
    "last_rev = last[::-1]\n",
    "idxs = np.arange(1, len(last) + 1)\n",
    "plt.plot(idxs, last_rev)\n",
    "\n",
    "acceleration = np.diff(last, 2)  \n",
    "acceleration_rev = acceleration[::-1]\n",
    "plt.plot(idxs[:-2] + 1, acceleration_rev)\n",
    "plt.show()\n",
    "k = acceleration_rev.argmax() + 2 \n",
    "print(\"Рекомендованное количество кластеров:\", k)"
   ]
  },
  {
   "cell_type": "code",
   "execution_count": 81,
   "id": "efe67602",
   "metadata": {},
   "outputs": [],
   "source": [
    "#функция построения дендрограмм\n",
    "def fancy_dendrogram(*args, **kwargs):\n",
    "    max_d = kwargs.pop('max_d', None)\n",
    "    if max_d and 'color_threshold' not in kwargs:\n",
    "        kwargs['color_threshold'] = max_d\n",
    "    annotate_above = kwargs.pop('annotate_above', 0)\n",
    "\n",
    "    ddata = dendrogram(*args, **kwargs)\n",
    "\n",
    "    if not kwargs.get('no_plot', False):\n",
    "        plt.title('Hierarchical Clustering Dendrogram (truncated)')\n",
    "        plt.xlabel('sample index or (cluster size)')\n",
    "        plt.ylabel('distance')\n",
    "        for i, d, c in zip(ddata['icoord'], ddata['dcoord'], ddata['color_list']):\n",
    "            x = 0.5 * sum(i[1:3])\n",
    "            y = d[1]\n",
    "            if y > annotate_above:\n",
    "                plt.plot(x, y, 'o', c=c)\n",
    "                plt.annotate(\"%.3g\" % y, (x, y), xytext=(0, -5),\n",
    "                             textcoords='offset points',\n",
    "                             va='top', ha='center')\n",
    "        if max_d:\n",
    "            plt.axhline(y=max_d, c='k')\n",
    "    return ddata"
   ]
  },
  {
   "cell_type": "code",
   "execution_count": 82,
   "id": "40f90084",
   "metadata": {},
   "outputs": [
    {
     "data": {
      "image/png": "[encoded data removed]",
      "text/plain": [
       "<Figure size 432x288 with 1 Axes>"
      ]
     },
     "metadata": {
      "needs_background": "light"
     },
     "output_type": "display_data"
    }
   ],
   "source": [
    "nClust=10\n",
    "\n",
    "#строим дендрограмму \n",
    "fancy_dendrogram(\n",
    "    data_linkage,\n",
    "    truncate_mode='lastp',\n",
    "    p=nClust, \n",
    "    leaf_rotation=90.,\n",
    "    leaf_font_size=12.,\n",
    "    show_contracted=True,\n",
    "    annotate_above=10,\n",
    ")\n",
    "plt.show()"
   ]
  },
  {
   "cell_type": "code",
   "execution_count": 83,
   "id": "b1581e1b",
   "metadata": {},
   "outputs": [
    {
     "data": {
      "text/plain": [
       "array([ 2,  2,  2,  2,  2,  2,  2,  2,  2,  2,  2,  2,  2,  2,  2,  2,  2,\n",
       "        2,  2,  2,  4,  2,  2,  2,  2,  2,  2,  2,  2,  2,  2,  9,  3,  2,\n",
       "        2,  2,  2,  2,  2,  2,  2,  2,  2,  2,  2,  2,  2,  2,  2,  2,  2,\n",
       "        2,  2,  2,  2,  5,  2,  2,  7,  2,  2,  2,  2,  2,  2,  2,  2,  2,\n",
       "        2,  2,  2,  2,  2,  1,  2,  5,  2,  6,  2,  2,  2,  2,  2,  2,  2,\n",
       "        2,  2,  2,  2,  2,  2,  1,  2,  2,  2,  2,  2,  2,  2,  2,  2,  2,\n",
       "        3,  2,  2,  2,  2,  2,  2,  2,  2,  2,  1,  2,  2,  2,  2,  2,  2,\n",
       "        2,  2,  2,  2,  2,  2,  2,  2,  2,  2,  2,  2,  2,  2,  2,  2,  2,\n",
       "        2,  2,  2,  2,  2,  2,  2,  2,  2,  2,  2,  2,  2,  2,  2,  2,  2,\n",
       "        2,  2,  2,  2,  2,  2,  2,  2,  2,  2,  2,  8, 10,  2,  2,  2,  2,\n",
       "        2,  2,  2,  2], dtype=int32)"
      ]
     },
     "execution_count": 83,
     "metadata": {},
     "output_type": "execute_result"
    }
   ],
   "source": [
    "# иерархическая кластеризация\n",
    "clusters=fcluster(data_linkage, nClust, criterion='maxclust')\n",
    "clusters"
   ]
  },
  {
   "cell_type": "code",
   "execution_count": 84,
   "id": "45a5f500",
   "metadata": {},
   "outputs": [
    {
     "data": {
      "text/plain": [
       "['Офшорні статки',\n",
       " 'Номінал. ВВП',\n",
       " 'Загальні податкові втрати',\n",
       " 'Втрати від под. уникнення',\n",
       " 'Втрати від под. ухилення',\n",
       " 'Податк. надходження',\n",
       " 'Населення']"
      ]
     },
     "execution_count": 84,
     "metadata": {},
     "output_type": "execute_result"
    }
   ],
   "source": [
    "col"
   ]
  },
  {
   "cell_type": "code",
   "execution_count": 85,
   "id": "e291467d",
   "metadata": {},
   "outputs": [
    {
     "data": {
      "image/png": "[encoded data removed]",
      "text/plain": [
       "<Figure size 720x576 with 1 Axes>"
      ]
     },
     "metadata": {
      "needs_background": "light"
     },
     "output_type": "display_data"
    }
   ],
   "source": [
    "x=2 # Чтобы построить диаграмму в разных осях, меняйте номера столбцов\n",
    "y=3 #\n",
    "plt.figure(figsize=(10, 8))\n",
    "plt.scatter(dataNorm[:,x], dataNorm[:,y], c=clusters, cmap='flag')\n",
    "plt.xlabel(col[x])\n",
    "plt.ylabel(col[y]);\n",
    "plt.show()"
   ]
  },
  {
   "cell_type": "code",
   "execution_count": 94,
   "id": "61428e3a",
   "metadata": {},
   "outputs": [
    {
     "data": {
      "image/png": "[encoded data removed]",
      "text/plain": [
       "<Figure size 720x576 with 1 Axes>"
      ]
     },
     "metadata": {
      "needs_background": "light"
     },
     "output_type": "display_data"
    }
   ],
   "source": [
    "x=3 # Чтобы построить диаграмму в разных осях, меняйте номера столбцов\n",
    "y=2 #\n",
    "plt.figure(figsize=(10, 8))\n",
    "plt.scatter(dataNorm[:,x], dataNorm[:,y], c=clusters, cmap='flag')\n",
    "plt.xlabel(col[x])\n",
    "plt.ylabel(col[y]);\n",
    "plt.show()"
   ]
  },
  {
   "cell_type": "code",
   "execution_count": 87,
   "id": "2629a03e",
   "metadata": {},
   "outputs": [
    {
     "data": {
      "image/png": "[encoded data removed]",
      "text/plain": [
       "<Figure size 720x576 with 1 Axes>"
      ]
     },
     "metadata": {
      "needs_background": "light"
     },
     "output_type": "display_data"
    }
   ],
   "source": [
    "x=-2 # Чтобы построить диаграмму в разных осях, меняйте номера столбцов\n",
    "y=0 #\n",
    "plt.figure(figsize=(10, 8))\n",
    "plt.scatter(dataNorm[:,x], dataNorm[:,y], c=clusters, cmap='flag')\n",
    "plt.xlabel(col[x])\n",
    "plt.ylabel(col[y]);\n",
    "plt.show()"
   ]
  },
  {
   "cell_type": "code",
   "execution_count": 88,
   "id": "a1ac48bd",
   "metadata": {},
   "outputs": [
    {
     "data": {
      "text/html": [
       "<div>\n",
       "<style scoped>\n",
       "    .dataframe tbody tr th:only-of-type {\n",
       "        vertical-align: middle;\n",
       "    }\n",
       "\n",
       "    .dataframe tbody tr th {\n",
       "        vertical-align: top;\n",
       "    }\n",
       "\n",
       "    .dataframe thead th {\n",
       "        text-align: right;\n",
       "    }\n",
       "</style>\n",
       "<table border=\"1\" class=\"dataframe\">\n",
       "  <thead>\n",
       "    <tr style=\"text-align: right;\">\n",
       "      <th></th>\n",
       "      <th>Офшорні статки</th>\n",
       "      <th>Номінал. ВВП</th>\n",
       "      <th>Загальні податкові втрати</th>\n",
       "      <th>Втрати від под. уникнення</th>\n",
       "      <th>Втрати від под. ухилення</th>\n",
       "      <th>Податк. надходження</th>\n",
       "      <th>Населення</th>\n",
       "      <th>Количество</th>\n",
       "    </tr>\n",
       "    <tr>\n",
       "      <th>I</th>\n",
       "      <th></th>\n",
       "      <th></th>\n",
       "      <th></th>\n",
       "      <th></th>\n",
       "      <th></th>\n",
       "      <th></th>\n",
       "      <th></th>\n",
       "      <th></th>\n",
       "    </tr>\n",
       "  </thead>\n",
       "  <tbody>\n",
       "    <tr>\n",
       "      <th>1</th>\n",
       "      <td>0.220000</td>\n",
       "      <td>0.020000</td>\n",
       "      <td>0.136667</td>\n",
       "      <td>0.01000</td>\n",
       "      <td>0.290000</td>\n",
       "      <td>0.023333</td>\n",
       "      <td>0.003333</td>\n",
       "      <td>3</td>\n",
       "    </tr>\n",
       "    <tr>\n",
       "      <th>2</th>\n",
       "      <td>0.006025</td>\n",
       "      <td>0.006584</td>\n",
       "      <td>0.006708</td>\n",
       "      <td>0.00882</td>\n",
       "      <td>0.004783</td>\n",
       "      <td>0.007888</td>\n",
       "      <td>0.014658</td>\n",
       "      <td>161</td>\n",
       "    </tr>\n",
       "    <tr>\n",
       "      <th>3</th>\n",
       "      <td>0.010000</td>\n",
       "      <td>0.030000</td>\n",
       "      <td>0.115000</td>\n",
       "      <td>0.20500</td>\n",
       "      <td>0.010000</td>\n",
       "      <td>0.030000</td>\n",
       "      <td>0.065000</td>\n",
       "      <td>2</td>\n",
       "    </tr>\n",
       "    <tr>\n",
       "      <th>4</th>\n",
       "      <td>0.010000</td>\n",
       "      <td>0.070000</td>\n",
       "      <td>0.170000</td>\n",
       "      <td>0.30000</td>\n",
       "      <td>0.010000</td>\n",
       "      <td>0.130000</td>\n",
       "      <td>0.150000</td>\n",
       "      <td>1</td>\n",
       "    </tr>\n",
       "    <tr>\n",
       "      <th>5</th>\n",
       "      <td>0.095000</td>\n",
       "      <td>0.105000</td>\n",
       "      <td>0.185000</td>\n",
       "      <td>0.23500</td>\n",
       "      <td>0.120000</td>\n",
       "      <td>0.190000</td>\n",
       "      <td>0.045000</td>\n",
       "      <td>2</td>\n",
       "    </tr>\n",
       "    <tr>\n",
       "      <th>6</th>\n",
       "      <td>0.090000</td>\n",
       "      <td>0.240000</td>\n",
       "      <td>0.110000</td>\n",
       "      <td>0.09000</td>\n",
       "      <td>0.140000</td>\n",
       "      <td>0.250000</td>\n",
       "      <td>0.090000</td>\n",
       "      <td>1</td>\n",
       "    </tr>\n",
       "    <tr>\n",
       "      <th>7</th>\n",
       "      <td>0.220000</td>\n",
       "      <td>0.180000</td>\n",
       "      <td>0.390000</td>\n",
       "      <td>0.50000</td>\n",
       "      <td>0.270000</td>\n",
       "      <td>0.230000</td>\n",
       "      <td>0.060000</td>\n",
       "      <td>1</td>\n",
       "    </tr>\n",
       "    <tr>\n",
       "      <th>8</th>\n",
       "      <td>0.600000</td>\n",
       "      <td>0.130000</td>\n",
       "      <td>0.440000</td>\n",
       "      <td>0.21000</td>\n",
       "      <td>0.730000</td>\n",
       "      <td>0.200000</td>\n",
       "      <td>0.050000</td>\n",
       "      <td>1</td>\n",
       "    </tr>\n",
       "    <tr>\n",
       "      <th>9</th>\n",
       "      <td>0.230000</td>\n",
       "      <td>0.700000</td>\n",
       "      <td>0.170000</td>\n",
       "      <td>0.08000</td>\n",
       "      <td>0.280000</td>\n",
       "      <td>0.670000</td>\n",
       "      <td>1.000000</td>\n",
       "      <td>1</td>\n",
       "    </tr>\n",
       "    <tr>\n",
       "      <th>10</th>\n",
       "      <td>1.000000</td>\n",
       "      <td>1.000000</td>\n",
       "      <td>1.000000</td>\n",
       "      <td>1.00000</td>\n",
       "      <td>1.000000</td>\n",
       "      <td>1.000000</td>\n",
       "      <td>0.230000</td>\n",
       "      <td>1</td>\n",
       "    </tr>\n",
       "  </tbody>\n",
       "</table>\n",
       "</div>"
      ],
      "text/plain": [
       "    Офшорні статки  Номінал. ВВП  Загальні податкові втрати  \\\n",
       "I                                                             \n",
       "1         0.220000      0.020000                   0.136667   \n",
       "2         0.006025      0.006584                   0.006708   \n",
       "3         0.010000      0.030000                   0.115000   \n",
       "4         0.010000      0.070000                   0.170000   \n",
       "5         0.095000      0.105000                   0.185000   \n",
       "6         0.090000      0.240000                   0.110000   \n",
       "7         0.220000      0.180000                   0.390000   \n",
       "8         0.600000      0.130000                   0.440000   \n",
       "9         0.230000      0.700000                   0.170000   \n",
       "10        1.000000      1.000000                   1.000000   \n",
       "\n",
       "    Втрати від под. уникнення  Втрати від под. ухилення  Податк. надходження  \\\n",
       "I                                                                              \n",
       "1                     0.01000                  0.290000             0.023333   \n",
       "2                     0.00882                  0.004783             0.007888   \n",
       "3                     0.20500                  0.010000             0.030000   \n",
       "4                     0.30000                  0.010000             0.130000   \n",
       "5                     0.23500                  0.120000             0.190000   \n",
       "6                     0.09000                  0.140000             0.250000   \n",
       "7                     0.50000                  0.270000             0.230000   \n",
       "8                     0.21000                  0.730000             0.200000   \n",
       "9                     0.08000                  0.280000             0.670000   \n",
       "10                    1.00000                  1.000000             1.000000   \n",
       "\n",
       "    Населення  Количество  \n",
       "I                          \n",
       "1    0.003333           3  \n",
       "2    0.014658         161  \n",
       "3    0.065000           2  \n",
       "4    0.150000           1  \n",
       "5    0.045000           2  \n",
       "6    0.090000           1  \n",
       "7    0.060000           1  \n",
       "8    0.050000           1  \n",
       "9    1.000000           1  \n",
       "10   0.230000           1  "
      ]
     },
     "execution_count": 88,
     "metadata": {},
     "output_type": "execute_result"
    }
   ],
   "source": [
    "# к оригинальным данным добавляем номер кластера\n",
    "df['I']=clusters\n",
    "res=df.groupby('I')[col].mean()\n",
    "res['Количество']=df.groupby('I').size().values\n",
    "res #ниже средние цифры по кластерам и количество объектов (Количество)"
   ]
  },
  {
   "cell_type": "code",
   "execution_count": 89,
   "id": "560d3a3d",
   "metadata": {},
   "outputs": [
    {
     "data": {
      "text/html": [
       "<div>\n",
       "<style scoped>\n",
       "    .dataframe tbody tr th:only-of-type {\n",
       "        vertical-align: middle;\n",
       "    }\n",
       "\n",
       "    .dataframe tbody tr th {\n",
       "        vertical-align: top;\n",
       "    }\n",
       "\n",
       "    .dataframe thead th {\n",
       "        text-align: right;\n",
       "    }\n",
       "</style>\n",
       "<table border=\"1\" class=\"dataframe\">\n",
       "  <thead>\n",
       "    <tr style=\"text-align: right;\">\n",
       "      <th></th>\n",
       "      <th>Офшорні статки</th>\n",
       "      <th>Номінал. ВВП</th>\n",
       "      <th>Загальні податкові втрати</th>\n",
       "      <th>Втрати від под. уникнення</th>\n",
       "      <th>Втрати від под. ухилення</th>\n",
       "      <th>Податк. надходження</th>\n",
       "      <th>Населення</th>\n",
       "      <th>I</th>\n",
       "    </tr>\n",
       "  </thead>\n",
       "  <tbody>\n",
       "    <tr>\n",
       "      <th>0</th>\n",
       "      <td>0.00</td>\n",
       "      <td>0.00</td>\n",
       "      <td>0.00</td>\n",
       "      <td>0.00</td>\n",
       "      <td>0.00</td>\n",
       "      <td>0.00</td>\n",
       "      <td>0.03</td>\n",
       "      <td>2</td>\n",
       "    </tr>\n",
       "    <tr>\n",
       "      <th>1</th>\n",
       "      <td>0.00</td>\n",
       "      <td>0.00</td>\n",
       "      <td>0.00</td>\n",
       "      <td>0.00</td>\n",
       "      <td>0.00</td>\n",
       "      <td>0.00</td>\n",
       "      <td>0.00</td>\n",
       "      <td>2</td>\n",
       "    </tr>\n",
       "    <tr>\n",
       "      <th>2</th>\n",
       "      <td>0.00</td>\n",
       "      <td>0.01</td>\n",
       "      <td>0.01</td>\n",
       "      <td>0.01</td>\n",
       "      <td>0.00</td>\n",
       "      <td>0.01</td>\n",
       "      <td>0.03</td>\n",
       "      <td>2</td>\n",
       "    </tr>\n",
       "    <tr>\n",
       "      <th>3</th>\n",
       "      <td>0.01</td>\n",
       "      <td>0.00</td>\n",
       "      <td>0.03</td>\n",
       "      <td>0.04</td>\n",
       "      <td>0.01</td>\n",
       "      <td>0.01</td>\n",
       "      <td>0.02</td>\n",
       "      <td>2</td>\n",
       "    </tr>\n",
       "    <tr>\n",
       "      <th>4</th>\n",
       "      <td>0.01</td>\n",
       "      <td>0.02</td>\n",
       "      <td>0.03</td>\n",
       "      <td>0.05</td>\n",
       "      <td>0.01</td>\n",
       "      <td>0.03</td>\n",
       "      <td>0.03</td>\n",
       "      <td>2</td>\n",
       "    </tr>\n",
       "    <tr>\n",
       "      <th>...</th>\n",
       "      <td>...</td>\n",
       "      <td>...</td>\n",
       "      <td>...</td>\n",
       "      <td>...</td>\n",
       "      <td>...</td>\n",
       "      <td>...</td>\n",
       "      <td>...</td>\n",
       "      <td>...</td>\n",
       "    </tr>\n",
       "    <tr>\n",
       "      <th>169</th>\n",
       "      <td>0.01</td>\n",
       "      <td>0.00</td>\n",
       "      <td>0.01</td>\n",
       "      <td>0.01</td>\n",
       "      <td>0.01</td>\n",
       "      <td>0.01</td>\n",
       "      <td>0.02</td>\n",
       "      <td>2</td>\n",
       "    </tr>\n",
       "    <tr>\n",
       "      <th>170</th>\n",
       "      <td>0.00</td>\n",
       "      <td>0.02</td>\n",
       "      <td>0.00</td>\n",
       "      <td>0.01</td>\n",
       "      <td>0.00</td>\n",
       "      <td>0.01</td>\n",
       "      <td>0.07</td>\n",
       "      <td>2</td>\n",
       "    </tr>\n",
       "    <tr>\n",
       "      <th>171</th>\n",
       "      <td>0.00</td>\n",
       "      <td>0.00</td>\n",
       "      <td>0.00</td>\n",
       "      <td>0.00</td>\n",
       "      <td>0.00</td>\n",
       "      <td>0.00</td>\n",
       "      <td>0.02</td>\n",
       "      <td>2</td>\n",
       "    </tr>\n",
       "    <tr>\n",
       "      <th>172</th>\n",
       "      <td>0.00</td>\n",
       "      <td>0.00</td>\n",
       "      <td>0.00</td>\n",
       "      <td>0.00</td>\n",
       "      <td>0.00</td>\n",
       "      <td>0.00</td>\n",
       "      <td>0.01</td>\n",
       "      <td>2</td>\n",
       "    </tr>\n",
       "    <tr>\n",
       "      <th>173</th>\n",
       "      <td>0.00</td>\n",
       "      <td>0.00</td>\n",
       "      <td>0.00</td>\n",
       "      <td>0.00</td>\n",
       "      <td>0.00</td>\n",
       "      <td>0.00</td>\n",
       "      <td>0.01</td>\n",
       "      <td>2</td>\n",
       "    </tr>\n",
       "  </tbody>\n",
       "</table>\n",
       "<p>161 rows × 8 columns</p>\n",
       "</div>"
      ],
      "text/plain": [
       "     Офшорні статки  Номінал. ВВП  Загальні податкові втрати  \\\n",
       "0              0.00          0.00                       0.00   \n",
       "1              0.00          0.00                       0.00   \n",
       "2              0.00          0.01                       0.01   \n",
       "3              0.01          0.00                       0.03   \n",
       "4              0.01          0.02                       0.03   \n",
       "..              ...           ...                        ...   \n",
       "169            0.01          0.00                       0.01   \n",
       "170            0.00          0.02                       0.00   \n",
       "171            0.00          0.00                       0.00   \n",
       "172            0.00          0.00                       0.00   \n",
       "173            0.00          0.00                       0.00   \n",
       "\n",
       "     Втрати від под. уникнення  Втрати від под. ухилення  Податк. надходження  \\\n",
       "0                         0.00                      0.00                 0.00   \n",
       "1                         0.00                      0.00                 0.00   \n",
       "2                         0.01                      0.00                 0.01   \n",
       "3                         0.04                      0.01                 0.01   \n",
       "4                         0.05                      0.01                 0.03   \n",
       "..                         ...                       ...                  ...   \n",
       "169                       0.01                      0.01                 0.01   \n",
       "170                       0.01                      0.00                 0.01   \n",
       "171                       0.00                      0.00                 0.00   \n",
       "172                       0.00                      0.00                 0.00   \n",
       "173                       0.00                      0.00                 0.00   \n",
       "\n",
       "     Населення  I  \n",
       "0         0.03  2  \n",
       "1         0.00  2  \n",
       "2         0.03  2  \n",
       "3         0.02  2  \n",
       "4         0.03  2  \n",
       "..         ... ..  \n",
       "169       0.02  2  \n",
       "170       0.07  2  \n",
       "171       0.02  2  \n",
       "172       0.01  2  \n",
       "173       0.01  2  \n",
       "\n",
       "[161 rows x 8 columns]"
      ]
     },
     "execution_count": 89,
     "metadata": {},
     "output_type": "execute_result"
    }
   ],
   "source": [
    "df[df['I']==2] # !!!!! меняйте номер кластера"
   ]
  },
  {
   "cell_type": "code",
   "execution_count": 90,
   "id": "086239d3",
   "metadata": {},
   "outputs": [],
   "source": [
    "# строим кластеризаци методом KMeans\n",
    "km = KMeans(n_clusters=nClust).fit(dataNorm)"
   ]
  },
  {
   "cell_type": "code",
   "execution_count": 91,
   "id": "a5674612",
   "metadata": {},
   "outputs": [
    {
     "data": {
      "text/plain": [
       "array([10, 10, 10, 10,  1, 10, 10,  5, 10, 10,  1, 10, 10,  5, 10, 10, 10,\n",
       "       10, 10, 10,  8, 10, 10, 10, 10, 10,  5, 10, 10, 10, 10,  3,  8, 10,\n",
       "        1, 10, 10, 10, 10, 10, 10, 10, 10, 10, 10, 10, 10,  1, 10, 10, 10,\n",
       "       10,  1, 10, 10,  6, 10, 10,  4, 10, 10, 10, 10, 10, 10, 10, 10, 10,\n",
       "       10, 10, 10,  1,  1,  9, 10,  6, 10,  6, 10, 10, 10, 10, 10, 10, 10,\n",
       "       10, 10, 10, 10, 10, 10,  9, 10, 10, 10, 10, 10, 10, 10, 10, 10, 10,\n",
       "        8, 10, 10, 10, 10, 10, 10, 10, 10, 10,  9, 10, 10, 10, 10, 10, 10,\n",
       "        1, 10, 10, 10, 10, 10,  1,  1, 10, 10,  5, 10, 10, 10, 10,  1, 10,\n",
       "       10, 10, 10,  5, 10, 10, 10, 10,  1,  5,  5, 10, 10, 10, 10, 10,  5,\n",
       "        5, 10, 10,  1, 10, 10, 10,  1, 10, 10, 10,  7,  2, 10, 10, 10, 10,\n",
       "        1, 10, 10, 10])"
      ]
     },
     "execution_count": 91,
     "metadata": {},
     "output_type": "execute_result"
    }
   ],
   "source": [
    "# выведем полученное распределение по кластерам\n",
    "# так же номер кластера, к котрому относится строка, так как нумерация начинается с нуля, выводим добавляя 1\n",
    "km.labels_ +1"
   ]
  },
  {
   "cell_type": "code",
   "execution_count": 92,
   "id": "cb205b37",
   "metadata": {},
   "outputs": [
    {
     "data": {
      "image/png": "[encoded data removed]",
      "text/plain": [
       "<Figure size 720x576 with 1 Axes>"
      ]
     },
     "metadata": {
      "needs_background": "light"
     },
     "output_type": "display_data"
    }
   ],
   "source": [
    "x=0 # Чтобы построить диаграмму в разных осях, меняйте номера столбцов\n",
    "y=2 #\n",
    "centroids = km.cluster_centers_\n",
    "plt.figure(figsize=(10, 8))\n",
    "plt.scatter(dataNorm[:,x], dataNorm[:,y], c=km.labels_, cmap='flag')\n",
    "plt.scatter(centroids[:, x], centroids[:, y], marker='*', s=300,\n",
    "            c='r', label='centroid')\n",
    "plt.xlabel(col[x])\n",
    "plt.ylabel(col[y]);\n",
    "plt.show()"
   ]
  },
  {
   "cell_type": "code",
   "execution_count": 93,
   "id": "79ba63d9",
   "metadata": {},
   "outputs": [
    {
     "data": {
      "text/html": [
       "<div>\n",
       "<style scoped>\n",
       "    .dataframe tbody tr th:only-of-type {\n",
       "        vertical-align: middle;\n",
       "    }\n",
       "\n",
       "    .dataframe tbody tr th {\n",
       "        vertical-align: top;\n",
       "    }\n",
       "\n",
       "    .dataframe thead th {\n",
       "        text-align: right;\n",
       "    }\n",
       "</style>\n",
       "<table border=\"1\" class=\"dataframe\">\n",
       "  <thead>\n",
       "    <tr style=\"text-align: right;\">\n",
       "      <th></th>\n",
       "      <th>Офшорні статки</th>\n",
       "      <th>Номінал. ВВП</th>\n",
       "      <th>Загальні податкові втрати</th>\n",
       "      <th>Втрати від под. уникнення</th>\n",
       "      <th>Втрати від под. ухилення</th>\n",
       "      <th>Податк. надходження</th>\n",
       "      <th>Населення</th>\n",
       "      <th>Количество</th>\n",
       "    </tr>\n",
       "    <tr>\n",
       "      <th>KMeans</th>\n",
       "      <th></th>\n",
       "      <th></th>\n",
       "      <th></th>\n",
       "      <th></th>\n",
       "      <th></th>\n",
       "      <th></th>\n",
       "      <th></th>\n",
       "      <th></th>\n",
       "    </tr>\n",
       "  </thead>\n",
       "  <tbody>\n",
       "    <tr>\n",
       "      <th>1</th>\n",
       "      <td>0.008000</td>\n",
       "      <td>0.020667</td>\n",
       "      <td>0.020667</td>\n",
       "      <td>0.034667</td>\n",
       "      <td>0.004667</td>\n",
       "      <td>0.016000</td>\n",
       "      <td>0.074000</td>\n",
       "      <td>15</td>\n",
       "    </tr>\n",
       "    <tr>\n",
       "      <th>2</th>\n",
       "      <td>1.000000</td>\n",
       "      <td>1.000000</td>\n",
       "      <td>1.000000</td>\n",
       "      <td>1.000000</td>\n",
       "      <td>1.000000</td>\n",
       "      <td>1.000000</td>\n",
       "      <td>0.230000</td>\n",
       "      <td>1</td>\n",
       "    </tr>\n",
       "    <tr>\n",
       "      <th>3</th>\n",
       "      <td>0.230000</td>\n",
       "      <td>0.700000</td>\n",
       "      <td>0.170000</td>\n",
       "      <td>0.080000</td>\n",
       "      <td>0.280000</td>\n",
       "      <td>0.670000</td>\n",
       "      <td>1.000000</td>\n",
       "      <td>1</td>\n",
       "    </tr>\n",
       "    <tr>\n",
       "      <th>4</th>\n",
       "      <td>0.220000</td>\n",
       "      <td>0.180000</td>\n",
       "      <td>0.390000</td>\n",
       "      <td>0.500000</td>\n",
       "      <td>0.270000</td>\n",
       "      <td>0.230000</td>\n",
       "      <td>0.060000</td>\n",
       "      <td>1</td>\n",
       "    </tr>\n",
       "    <tr>\n",
       "      <th>5</th>\n",
       "      <td>0.051111</td>\n",
       "      <td>0.051111</td>\n",
       "      <td>0.048889</td>\n",
       "      <td>0.051111</td>\n",
       "      <td>0.050000</td>\n",
       "      <td>0.073333</td>\n",
       "      <td>0.027778</td>\n",
       "      <td>9</td>\n",
       "    </tr>\n",
       "    <tr>\n",
       "      <th>6</th>\n",
       "      <td>0.093333</td>\n",
       "      <td>0.150000</td>\n",
       "      <td>0.160000</td>\n",
       "      <td>0.186667</td>\n",
       "      <td>0.126667</td>\n",
       "      <td>0.210000</td>\n",
       "      <td>0.060000</td>\n",
       "      <td>3</td>\n",
       "    </tr>\n",
       "    <tr>\n",
       "      <th>7</th>\n",
       "      <td>0.600000</td>\n",
       "      <td>0.130000</td>\n",
       "      <td>0.440000</td>\n",
       "      <td>0.210000</td>\n",
       "      <td>0.730000</td>\n",
       "      <td>0.200000</td>\n",
       "      <td>0.050000</td>\n",
       "      <td>1</td>\n",
       "    </tr>\n",
       "    <tr>\n",
       "      <th>8</th>\n",
       "      <td>0.010000</td>\n",
       "      <td>0.043333</td>\n",
       "      <td>0.133333</td>\n",
       "      <td>0.236667</td>\n",
       "      <td>0.010000</td>\n",
       "      <td>0.063333</td>\n",
       "      <td>0.093333</td>\n",
       "      <td>3</td>\n",
       "    </tr>\n",
       "    <tr>\n",
       "      <th>9</th>\n",
       "      <td>0.220000</td>\n",
       "      <td>0.020000</td>\n",
       "      <td>0.136667</td>\n",
       "      <td>0.010000</td>\n",
       "      <td>0.290000</td>\n",
       "      <td>0.023333</td>\n",
       "      <td>0.003333</td>\n",
       "      <td>3</td>\n",
       "    </tr>\n",
       "    <tr>\n",
       "      <th>10</th>\n",
       "      <td>0.002847</td>\n",
       "      <td>0.002117</td>\n",
       "      <td>0.002409</td>\n",
       "      <td>0.003212</td>\n",
       "      <td>0.001825</td>\n",
       "      <td>0.002701</td>\n",
       "      <td>0.007299</td>\n",
       "      <td>137</td>\n",
       "    </tr>\n",
       "  </tbody>\n",
       "</table>\n",
       "</div>"
      ],
      "text/plain": [
       "        Офшорні статки  Номінал. ВВП  Загальні податкові втрати  \\\n",
       "KMeans                                                            \n",
       "1             0.008000      0.020667                   0.020667   \n",
       "2             1.000000      1.000000                   1.000000   \n",
       "3             0.230000      0.700000                   0.170000   \n",
       "4             0.220000      0.180000                   0.390000   \n",
       "5             0.051111      0.051111                   0.048889   \n",
       "6             0.093333      0.150000                   0.160000   \n",
       "7             0.600000      0.130000                   0.440000   \n",
       "8             0.010000      0.043333                   0.133333   \n",
       "9             0.220000      0.020000                   0.136667   \n",
       "10            0.002847      0.002117                   0.002409   \n",
       "\n",
       "        Втрати від под. уникнення  Втрати від под. ухилення  \\\n",
       "KMeans                                                        \n",
       "1                        0.034667                  0.004667   \n",
       "2                        1.000000                  1.000000   \n",
       "3                        0.080000                  0.280000   \n",
       "4                        0.500000                  0.270000   \n",
       "5                        0.051111                  0.050000   \n",
       "6                        0.186667                  0.126667   \n",
       "7                        0.210000                  0.730000   \n",
       "8                        0.236667                  0.010000   \n",
       "9                        0.010000                  0.290000   \n",
       "10                       0.003212                  0.001825   \n",
       "\n",
       "        Податк. надходження  Населення  Количество  \n",
       "KMeans                                              \n",
       "1                  0.016000   0.074000          15  \n",
       "2                  1.000000   0.230000           1  \n",
       "3                  0.670000   1.000000           1  \n",
       "4                  0.230000   0.060000           1  \n",
       "5                  0.073333   0.027778           9  \n",
       "6                  0.210000   0.060000           3  \n",
       "7                  0.200000   0.050000           1  \n",
       "8                  0.063333   0.093333           3  \n",
       "9                  0.023333   0.003333           3  \n",
       "10                 0.002701   0.007299         137  "
      ]
     },
     "execution_count": 93,
     "metadata": {},
     "output_type": "execute_result"
    }
   ],
   "source": [
    "# к оригинальным данным добавляем номера кластеров\n",
    "df['KMeans']=km.labels_+1\n",
    "res=df.groupby('KMeans')[col].mean()\n",
    "res['Количество']=df.groupby('KMeans').size().values\n",
    "res"
   ]
  },
  {
   "cell_type": "code",
   "execution_count": null,
   "id": "f8dd812a",
   "metadata": {},
   "outputs": [],
   "source": []
  }
 ],
 "metadata": {
  "kernelspec": {
   "display_name": "Python 3",
   "language": "python",
   "name": "python3"
  },
  "language_info": {
   "codemirror_mode": {
    "name": "ipython",
    "version": 3
   },
   "file_extension": ".py",
   "mimetype": "text/x-python",
   "name": "python",
   "nbconvert_exporter": "python",
   "pygments_lexer": "ipython3",
   "version": "3.8.8"
  }
 },
 "nbformat": 4,
 "nbformat_minor": 5
}
