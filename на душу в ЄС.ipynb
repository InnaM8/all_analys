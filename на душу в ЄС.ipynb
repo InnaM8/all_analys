{
 "cells": [
  {
   "cell_type": "code",
   "execution_count": 25,
   "id": "4e9d9aab",
   "metadata": {},
   "outputs": [],
   "source": [
    "# загрузим библиотеки\n",
    "# данные библиотеки являются стандартными для пакета Anaconda\n",
    "import pandas as pd\n",
    "from scipy.spatial.distance import pdist\n",
    "from scipy.cluster.hierarchy import *\n",
    "from matplotlib import pyplot as plt\n",
    "from matplotlib import rc\n",
    "import numpy as np\n",
    "from sklearn.cluster import KMeans\n",
    "#данная строчка нужна для корректного отображения графиков\n",
    "%matplotlib inline "
   ]
  },
  {
   "cell_type": "code",
   "execution_count": 26,
   "id": "5585e54a",
   "metadata": {},
   "outputs": [
    {
     "data": {
      "text/html": [
       "<div>\n",
       "<style scoped>\n",
       "    .dataframe tbody tr th:only-of-type {\n",
       "        vertical-align: middle;\n",
       "    }\n",
       "\n",
       "    .dataframe tbody tr th {\n",
       "        vertical-align: top;\n",
       "    }\n",
       "\n",
       "    .dataframe thead th {\n",
       "        text-align: right;\n",
       "    }\n",
       "</style>\n",
       "<table border=\"1\" class=\"dataframe\">\n",
       "  <thead>\n",
       "    <tr style=\"text-align: right;\">\n",
       "      <th></th>\n",
       "      <th>Країна</th>\n",
       "      <th>Офшорні статки</th>\n",
       "      <th>ВВП на душу насел</th>\n",
       "      <th>Загальні податкові втрати</th>\n",
       "      <th>Втрати від под. уникнення</th>\n",
       "      <th>Втрати від под. ухилення</th>\n",
       "      <th>Податк. надходження</th>\n",
       "    </tr>\n",
       "  </thead>\n",
       "  <tbody>\n",
       "    <tr>\n",
       "      <th>14</th>\n",
       "      <td>Нідерланди</td>\n",
       "      <td>21873.267160</td>\n",
       "      <td>52248</td>\n",
       "      <td>623.179081</td>\n",
       "      <td>54.973242</td>\n",
       "      <td>568.205839</td>\n",
       "      <td>11468.119979</td>\n",
       "    </tr>\n",
       "    <tr>\n",
       "      <th>26</th>\n",
       "      <td>Швеція</td>\n",
       "      <td>5496.442926</td>\n",
       "      <td>51796</td>\n",
       "      <td>273.141311</td>\n",
       "      <td>115.498265</td>\n",
       "      <td>157.643047</td>\n",
       "      <td>18411.277091</td>\n",
       "    </tr>\n",
       "    <tr>\n",
       "      <th>15</th>\n",
       "      <td>Німеччина</td>\n",
       "      <td>5795.701595</td>\n",
       "      <td>45733</td>\n",
       "      <td>428.550425</td>\n",
       "      <td>298.152224</td>\n",
       "      <td>130.398201</td>\n",
       "      <td>10333.961753</td>\n",
       "    </tr>\n",
       "    <tr>\n",
       "      <th>2</th>\n",
       "      <td>Болгарія</td>\n",
       "      <td>451.673757</td>\n",
       "      <td>9919</td>\n",
       "      <td>5.875764</td>\n",
       "      <td>3.593385</td>\n",
       "      <td>2.282379</td>\n",
       "      <td>1789.022080</td>\n",
       "    </tr>\n",
       "    <tr>\n",
       "      <th>4</th>\n",
       "      <td>Данія</td>\n",
       "      <td>7066.733072</td>\n",
       "      <td>60494</td>\n",
       "      <td>319.457344</td>\n",
       "      <td>122.052712</td>\n",
       "      <td>197.404632</td>\n",
       "      <td>27047.243287</td>\n",
       "    </tr>\n",
       "  </tbody>\n",
       "</table>\n",
       "</div>"
      ],
      "text/plain": [
       "        Країна  Офшорні статки  ВВП на душу насел  Загальні податкові втрати  \\\n",
       "14  Нідерланди    21873.267160              52248                 623.179081   \n",
       "26      Швеція     5496.442926              51796                 273.141311   \n",
       "15   Німеччина     5795.701595              45733                 428.550425   \n",
       "2     Болгарія      451.673757               9919                   5.875764   \n",
       "4        Данія     7066.733072              60494                 319.457344   \n",
       "\n",
       "    Втрати від под. уникнення  Втрати від под. ухилення  Податк. надходження  \n",
       "14                  54.973242                568.205839         11468.119979  \n",
       "26                 115.498265                157.643047         18411.277091  \n",
       "15                 298.152224                130.398201         10333.961753  \n",
       "2                    3.593385                  2.282379          1789.022080  \n",
       "4                  122.052712                197.404632         27047.243287  "
      ]
     },
     "execution_count": 26,
     "metadata": {},
     "output_type": "execute_result"
    }
   ],
   "source": [
    "df=pd.read_excel('на душу населення.xlsx', sheet_name='Лист2') #!!!!!! измените имя файла и название рабочего листа\n",
    "df.sample(5) #эта команда выведет пять случайных строк таблицы, таблица не отобразиться полностью"
   ]
  },
  {
   "cell_type": "code",
   "execution_count": 27,
   "id": "3e7d2178",
   "metadata": {},
   "outputs": [
    {
     "name": "stdout",
     "output_type": "stream",
     "text": [
      "<class 'pandas.core.frame.DataFrame'>\n",
      "RangeIndex: 27 entries, 0 to 26\n",
      "Data columns (total 7 columns):\n",
      " #   Column                     Non-Null Count  Dtype  \n",
      "---  ------                     --------------  -----  \n",
      " 0   Країна                     27 non-null     object \n",
      " 1   Офшорні статки             27 non-null     float64\n",
      " 2   ВВП на душу насел          27 non-null     int64  \n",
      " 3   Загальні податкові втрати  27 non-null     float64\n",
      " 4   Втрати від под. уникнення  27 non-null     float64\n",
      " 5   Втрати від под. ухилення   27 non-null     float64\n",
      " 6   Податк. надходження        27 non-null     float64\n",
      "dtypes: float64(5), int64(1), object(1)\n",
      "memory usage: 1.6+ KB\n"
     ]
    }
   ],
   "source": [
    "df.info() # информация о столбцах таблицы и типах меременных"
   ]
  },
  {
   "cell_type": "code",
   "execution_count": 28,
   "id": "c5ac0a5d",
   "metadata": {},
   "outputs": [
    {
     "data": {
      "text/html": [
       "<div>\n",
       "<style scoped>\n",
       "    .dataframe tbody tr th:only-of-type {\n",
       "        vertical-align: middle;\n",
       "    }\n",
       "\n",
       "    .dataframe tbody tr th {\n",
       "        vertical-align: top;\n",
       "    }\n",
       "\n",
       "    .dataframe thead th {\n",
       "        text-align: right;\n",
       "    }\n",
       "</style>\n",
       "<table border=\"1\" class=\"dataframe\">\n",
       "  <thead>\n",
       "    <tr style=\"text-align: right;\">\n",
       "      <th></th>\n",
       "      <th>Офшорні статки</th>\n",
       "      <th>ВВП на душу насел</th>\n",
       "      <th>Загальні податкові втрати</th>\n",
       "      <th>Втрати від под. уникнення</th>\n",
       "      <th>Втрати від под. ухилення</th>\n",
       "      <th>Податк. надходження</th>\n",
       "    </tr>\n",
       "  </thead>\n",
       "  <tbody>\n",
       "    <tr>\n",
       "      <th>count</th>\n",
       "      <td>27.000000</td>\n",
       "      <td>27.000000</td>\n",
       "      <td>27.000000</td>\n",
       "      <td>27.000000</td>\n",
       "      <td>27.000000</td>\n",
       "      <td>27.000000</td>\n",
       "    </tr>\n",
       "    <tr>\n",
       "      <th>mean</th>\n",
       "      <td>41390.148505</td>\n",
       "      <td>34906.296296</td>\n",
       "      <td>1037.040863</td>\n",
       "      <td>100.102895</td>\n",
       "      <td>936.937968</td>\n",
       "      <td>8867.539368</td>\n",
       "    </tr>\n",
       "    <tr>\n",
       "      <th>std</th>\n",
       "      <td>156442.930253</td>\n",
       "      <td>24051.011242</td>\n",
       "      <td>3751.686963</td>\n",
       "      <td>183.965440</td>\n",
       "      <td>3582.718818</td>\n",
       "      <td>7334.148535</td>\n",
       "    </tr>\n",
       "    <tr>\n",
       "      <th>min</th>\n",
       "      <td>127.580188</td>\n",
       "      <td>9919.000000</td>\n",
       "      <td>5.875764</td>\n",
       "      <td>2.837858</td>\n",
       "      <td>0.637223</td>\n",
       "      <td>1789.022080</td>\n",
       "    </tr>\n",
       "    <tr>\n",
       "      <th>25%</th>\n",
       "      <td>835.210789</td>\n",
       "      <td>18370.500000</td>\n",
       "      <td>47.139305</td>\n",
       "      <td>34.131691</td>\n",
       "      <td>8.848472</td>\n",
       "      <td>3424.930047</td>\n",
       "    </tr>\n",
       "    <tr>\n",
       "      <th>50%</th>\n",
       "      <td>2747.652342</td>\n",
       "      <td>27054.000000</td>\n",
       "      <td>114.942338</td>\n",
       "      <td>46.956120</td>\n",
       "      <td>59.388229</td>\n",
       "      <td>5377.200744</td>\n",
       "    </tr>\n",
       "    <tr>\n",
       "      <th>75%</th>\n",
       "      <td>6431.217333</td>\n",
       "      <td>46943.500000</td>\n",
       "      <td>330.852771</td>\n",
       "      <td>83.682592</td>\n",
       "      <td>177.523839</td>\n",
       "      <td>12556.858893</td>\n",
       "    </tr>\n",
       "    <tr>\n",
       "      <th>max</th>\n",
       "      <td>813101.818939</td>\n",
       "      <td>116921.000000</td>\n",
       "      <td>19570.584732</td>\n",
       "      <td>959.767058</td>\n",
       "      <td>18610.817675</td>\n",
       "      <td>30058.989453</td>\n",
       "    </tr>\n",
       "  </tbody>\n",
       "</table>\n",
       "</div>"
      ],
      "text/plain": [
       "       Офшорні статки  ВВП на душу насел  Загальні податкові втрати  \\\n",
       "count       27.000000          27.000000                  27.000000   \n",
       "mean     41390.148505       34906.296296                1037.040863   \n",
       "std     156442.930253       24051.011242                3751.686963   \n",
       "min        127.580188        9919.000000                   5.875764   \n",
       "25%        835.210789       18370.500000                  47.139305   \n",
       "50%       2747.652342       27054.000000                 114.942338   \n",
       "75%       6431.217333       46943.500000                 330.852771   \n",
       "max     813101.818939      116921.000000               19570.584732   \n",
       "\n",
       "       Втрати від под. уникнення  Втрати від под. ухилення  \\\n",
       "count                  27.000000                 27.000000   \n",
       "mean                  100.102895                936.937968   \n",
       "std                   183.965440               3582.718818   \n",
       "min                     2.837858                  0.637223   \n",
       "25%                    34.131691                  8.848472   \n",
       "50%                    46.956120                 59.388229   \n",
       "75%                    83.682592                177.523839   \n",
       "max                   959.767058              18610.817675   \n",
       "\n",
       "       Податк. надходження  \n",
       "count            27.000000  \n",
       "mean           8867.539368  \n",
       "std            7334.148535  \n",
       "min            1789.022080  \n",
       "25%            3424.930047  \n",
       "50%            5377.200744  \n",
       "75%           12556.858893  \n",
       "max           30058.989453  "
      ]
     },
     "execution_count": 28,
     "metadata": {},
     "output_type": "execute_result"
    }
   ],
   "source": [
    "df.describe()"
   ]
  },
  {
   "cell_type": "code",
   "execution_count": 29,
   "id": "79b8ded4",
   "metadata": {},
   "outputs": [
    {
     "data": {
      "text/plain": [
       "Index(['Країна', 'Офшорні статки', 'ВВП на душу насел',\n",
       "       'Загальні податкові втрати', 'Втрати від под. уникнення',\n",
       "       'Втрати від под. ухилення', 'Податк. надходження'],\n",
       "      dtype='object')"
      ]
     },
     "execution_count": 29,
     "metadata": {},
     "output_type": "execute_result"
    }
   ],
   "source": [
    "df.columns #ниже выводит список столцов, удобно для копирования"
   ]
  },
  {
   "cell_type": "code",
   "execution_count": 30,
   "id": "ef475ba9",
   "metadata": {},
   "outputs": [],
   "source": [
    "col=['Офшорні статки', 'ВВП на душу насел', 'Загальні податкові втрати', 'Втрати від под. уникнення', 'Втрати від под. ухилення', 'Податк. надходження'] # !!!!!! укажите количественные (int, float) столбцы, \n",
    "#                                       по которым выполним кластеризацию"
   ]
  },
  {
   "cell_type": "code",
   "execution_count": 31,
   "id": "f2dc1e21",
   "metadata": {},
   "outputs": [],
   "source": [
    "pd.options.mode.chained_assignment = None \n",
    "df[col].fillna(0, inplace=True)"
   ]
  },
  {
   "cell_type": "code",
   "execution_count": 32,
   "id": "30f41ae4",
   "metadata": {},
   "outputs": [
    {
     "data": {
      "image/png": "[encoded data removed]",
      "text/plain": [
       "<Figure size 864x864 with 36 Axes>"
      ]
     },
     "metadata": {
      "needs_background": "light"
     },
     "output_type": "display_data"
    }
   ],
   "source": [
    "# матрица рассеяния и гистограммы\n",
    "from pandas.plotting import scatter_matrix\n",
    "scatter_matrix(df[col], alpha=0.05, figsize=(12, 12));"
   ]
  },
  {
   "cell_type": "code",
   "execution_count": 33,
   "id": "accc09ea",
   "metadata": {},
   "outputs": [
    {
     "data": {
      "text/html": [
       "<div>\n",
       "<style scoped>\n",
       "    .dataframe tbody tr th:only-of-type {\n",
       "        vertical-align: middle;\n",
       "    }\n",
       "\n",
       "    .dataframe tbody tr th {\n",
       "        vertical-align: top;\n",
       "    }\n",
       "\n",
       "    .dataframe thead th {\n",
       "        text-align: right;\n",
       "    }\n",
       "</style>\n",
       "<table border=\"1\" class=\"dataframe\">\n",
       "  <thead>\n",
       "    <tr style=\"text-align: right;\">\n",
       "      <th></th>\n",
       "      <th>Офшорні статки</th>\n",
       "      <th>ВВП на душу насел</th>\n",
       "      <th>Загальні податкові втрати</th>\n",
       "      <th>Втрати від под. уникнення</th>\n",
       "      <th>Втрати від под. ухилення</th>\n",
       "      <th>Податк. надходження</th>\n",
       "    </tr>\n",
       "  </thead>\n",
       "  <tbody>\n",
       "    <tr>\n",
       "      <th>Офшорні статки</th>\n",
       "      <td>1.000000</td>\n",
       "      <td>0.743811</td>\n",
       "      <td>0.999474</td>\n",
       "      <td>0.912717</td>\n",
       "      <td>0.999745</td>\n",
       "      <td>0.596813</td>\n",
       "    </tr>\n",
       "    <tr>\n",
       "      <th>ВВП на душу насел</th>\n",
       "      <td>0.743811</td>\n",
       "      <td>1.000000</td>\n",
       "      <td>0.752609</td>\n",
       "      <td>0.739297</td>\n",
       "      <td>0.750142</td>\n",
       "      <td>0.899555</td>\n",
       "    </tr>\n",
       "    <tr>\n",
       "      <th>Загальні податкові втрати</th>\n",
       "      <td>0.999474</td>\n",
       "      <td>0.752609</td>\n",
       "      <td>1.000000</td>\n",
       "      <td>0.922312</td>\n",
       "      <td>0.999803</td>\n",
       "      <td>0.608379</td>\n",
       "    </tr>\n",
       "    <tr>\n",
       "      <th>Втрати від под. уникнення</th>\n",
       "      <td>0.912717</td>\n",
       "      <td>0.739297</td>\n",
       "      <td>0.922312</td>\n",
       "      <td>1.000000</td>\n",
       "      <td>0.914462</td>\n",
       "      <td>0.674063</td>\n",
       "    </tr>\n",
       "    <tr>\n",
       "      <th>Втрати від под. ухилення</th>\n",
       "      <td>0.999745</td>\n",
       "      <td>0.750142</td>\n",
       "      <td>0.999803</td>\n",
       "      <td>0.914462</td>\n",
       "      <td>1.000000</td>\n",
       "      <td>0.602459</td>\n",
       "    </tr>\n",
       "    <tr>\n",
       "      <th>Податк. надходження</th>\n",
       "      <td>0.596813</td>\n",
       "      <td>0.899555</td>\n",
       "      <td>0.608379</td>\n",
       "      <td>0.674063</td>\n",
       "      <td>0.602459</td>\n",
       "      <td>1.000000</td>\n",
       "    </tr>\n",
       "  </tbody>\n",
       "</table>\n",
       "</div>"
      ],
      "text/plain": [
       "                           Офшорні статки  ВВП на душу насел  \\\n",
       "Офшорні статки                   1.000000           0.743811   \n",
       "ВВП на душу насел                0.743811           1.000000   \n",
       "Загальні податкові втрати        0.999474           0.752609   \n",
       "Втрати від под. уникнення        0.912717           0.739297   \n",
       "Втрати від под. ухилення         0.999745           0.750142   \n",
       "Податк. надходження              0.596813           0.899555   \n",
       "\n",
       "                           Загальні податкові втрати  \\\n",
       "Офшорні статки                              0.999474   \n",
       "ВВП на душу насел                           0.752609   \n",
       "Загальні податкові втрати                   1.000000   \n",
       "Втрати від под. уникнення                   0.922312   \n",
       "Втрати від под. ухилення                    0.999803   \n",
       "Податк. надходження                         0.608379   \n",
       "\n",
       "                           Втрати від под. уникнення  \\\n",
       "Офшорні статки                              0.912717   \n",
       "ВВП на душу насел                           0.739297   \n",
       "Загальні податкові втрати                   0.922312   \n",
       "Втрати від под. уникнення                   1.000000   \n",
       "Втрати від под. ухилення                    0.914462   \n",
       "Податк. надходження                         0.674063   \n",
       "\n",
       "                           Втрати від под. ухилення  Податк. надходження  \n",
       "Офшорні статки                             0.999745             0.596813  \n",
       "ВВП на душу насел                          0.750142             0.899555  \n",
       "Загальні податкові втрати                  0.999803             0.608379  \n",
       "Втрати від под. уникнення                  0.914462             0.674063  \n",
       "Втрати від под. ухилення                   1.000000             0.602459  \n",
       "Податк. надходження                        0.602459             1.000000  "
      ]
     },
     "execution_count": 33,
     "metadata": {},
     "output_type": "execute_result"
    }
   ],
   "source": [
    "df[col].corr() # посмотрим на парные корреляции"
   ]
  },
  {
   "cell_type": "code",
   "execution_count": 34,
   "id": "fe9786cb",
   "metadata": {},
   "outputs": [],
   "source": [
    "# загружаем библиотеку препроцесинга данных\n",
    "# эта библиотека автоматически приведен данные к нормальным значениям\n",
    "from sklearn import preprocessing\n",
    "dataNorm = preprocessing.MinMaxScaler().fit_transform(df[col].values)"
   ]
  },
  {
   "cell_type": "code",
   "execution_count": 35,
   "id": "3883cd3e",
   "metadata": {},
   "outputs": [],
   "source": [
    "# Вычислим расстояния между каждым набором данных,\n",
    "# т.е. строками массива data_for_clust\n",
    "# Вычисляется евклидово расстояние (по умолчанию)\n",
    "data_dist = pdist(dataNorm, 'euclidean')\n",
    "# Главная функция иерархической кластеризии\n",
    "# Объедение элементов в кластера и сохранение в \n",
    "# специальной переменной (используется ниже для визуализации \n",
    "# и выделения количества кластеров\n",
    "data_linkage = linkage(data_dist, method='average')"
   ]
  },
  {
   "cell_type": "code",
   "execution_count": 36,
   "id": "a856400f",
   "metadata": {},
   "outputs": [
    {
     "data": {
      "image/png": "[encoded data removed]",
      "text/plain": [
       "<Figure size 432x288 with 1 Axes>"
      ]
     },
     "metadata": {
      "needs_background": "light"
     },
     "output_type": "display_data"
    },
    {
     "name": "stdout",
     "output_type": "stream",
     "text": [
      "Рекомендованное количество кластеров: 2\n"
     ]
    }
   ],
   "source": [
    "# Метод локтя. Позволячет оценить оптимальное количество сегментов.\n",
    "# Показывает сумму внутри групповых вариаций\n",
    "last = data_linkage[-10:, 2]\n",
    "last_rev = last[::-1]\n",
    "idxs = np.arange(1, len(last) + 1)\n",
    "plt.plot(idxs, last_rev)\n",
    "\n",
    "acceleration = np.diff(last, 2)  \n",
    "acceleration_rev = acceleration[::-1]\n",
    "plt.plot(idxs[:-2] + 1, acceleration_rev)\n",
    "plt.show()\n",
    "k = acceleration_rev.argmax() + 2 \n",
    "print(\"Рекомендованное количество кластеров:\", k)"
   ]
  },
  {
   "cell_type": "code",
   "execution_count": 37,
   "id": "c030a7ee",
   "metadata": {},
   "outputs": [],
   "source": [
    "#функция построения дендрограмм\n",
    "def fancy_dendrogram(*args, **kwargs):\n",
    "    max_d = kwargs.pop('max_d', None)\n",
    "    if max_d and 'color_threshold' not in kwargs:\n",
    "        kwargs['color_threshold'] = max_d\n",
    "    annotate_above = kwargs.pop('annotate_above', 0)\n",
    "\n",
    "    ddata = dendrogram(*args, **kwargs)\n",
    "\n",
    "    if not kwargs.get('no_plot', False):\n",
    "        plt.title('Hierarchical Clustering Dendrogram (truncated)')\n",
    "        plt.xlabel('sample index or (cluster size)')\n",
    "        plt.ylabel('distance')\n",
    "        for i, d, c in zip(ddata['icoord'], ddata['dcoord'], ddata['color_list']):\n",
    "            x = 0.5 * sum(i[1:3])\n",
    "            y = d[1]\n",
    "            if y > annotate_above:\n",
    "                plt.plot(x, y, 'o', c=c)\n",
    "                plt.annotate(\"%.3g\" % y, (x, y), xytext=(0, -5),\n",
    "                             textcoords='offset points',\n",
    "                             va='top', ha='center')\n",
    "        if max_d:\n",
    "            plt.axhline(y=max_d, c='k')\n",
    "    return ddata"
   ]
  },
  {
   "cell_type": "code",
   "execution_count": 38,
   "id": "55982fee",
   "metadata": {},
   "outputs": [
    {
     "data": {
      "image/png": "[encoded data removed]",
      "text/plain": [
       "<Figure size 432x288 with 1 Axes>"
      ]
     },
     "metadata": {
      "needs_background": "light"
     },
     "output_type": "display_data"
    }
   ],
   "source": [
    "# !!!!!!!!! укажите, какое количество кластеров будете использовать!\n",
    "nClust=6\n",
    "\n",
    "#строим дендрограмму \n",
    "fancy_dendrogram(\n",
    "    data_linkage,\n",
    "    truncate_mode='lastp',\n",
    "    p=nClust, \n",
    "    leaf_rotation=90.,\n",
    "    leaf_font_size=12.,\n",
    "    show_contracted=True,\n",
    "    annotate_above=10,\n",
    ")\n",
    "plt.show()"
   ]
  },
  {
   "cell_type": "code",
   "execution_count": 39,
   "id": "9c357754",
   "metadata": {},
   "outputs": [
    {
     "data": {
      "text/plain": [
       "array([3, 3, 1, 1, 4, 1, 5, 1, 2, 1, 1, 1, 6, 1, 3, 2, 1, 1, 1, 1, 1, 1,\n",
       "       3, 2, 1, 1, 3], dtype=int32)"
      ]
     },
     "execution_count": 39,
     "metadata": {},
     "output_type": "execute_result"
    }
   ],
   "source": [
    "# иерархическая кластеризация\n",
    "clusters=fcluster(data_linkage, nClust, criterion='maxclust')\n",
    "clusters"
   ]
  },
  {
   "cell_type": "code",
   "execution_count": 40,
   "id": "3b2d1847",
   "metadata": {},
   "outputs": [
    {
     "data": {
      "text/plain": [
       "['Офшорні статки',\n",
       " 'ВВП на душу насел',\n",
       " 'Загальні податкові втрати',\n",
       " 'Втрати від под. уникнення',\n",
       " 'Втрати від под. ухилення',\n",
       " 'Податк. надходження']"
      ]
     },
     "execution_count": 40,
     "metadata": {},
     "output_type": "execute_result"
    }
   ],
   "source": [
    "col"
   ]
  },
  {
   "cell_type": "code",
   "execution_count": 41,
   "id": "2d003258",
   "metadata": {},
   "outputs": [
    {
     "data": {
      "image/png": "[encoded data removed]",
      "text/plain": [
       "<Figure size 720x576 with 1 Axes>"
      ]
     },
     "metadata": {
      "needs_background": "light"
     },
     "output_type": "display_data"
    }
   ],
   "source": [
    "x=5 # Чтобы построить диаграмму в разных осях, меняйте номера столбцов\n",
    "y=1 #\n",
    "plt.figure(figsize=(10, 8))\n",
    "plt.scatter(dataNorm[:,x], dataNorm[:,y], c=clusters, cmap='flag')\n",
    "plt.xlabel(col[x])\n",
    "plt.ylabel(col[y]);\n",
    "plt.show()"
   ]
  },
  {
   "cell_type": "code",
   "execution_count": 42,
   "id": "facb571b",
   "metadata": {},
   "outputs": [
    {
     "data": {
      "image/png": "[encoded data removed]",
      "text/plain": [
       "<Figure size 432x288 with 1 Axes>"
      ]
     },
     "metadata": {
      "needs_background": "light"
     },
     "output_type": "display_data"
    },
    {
     "data": {
      "image/png": "[encoded data removed]",
      "text/plain": [
       "<Figure size 432x288 with 1 Axes>"
      ]
     },
     "metadata": {
      "needs_background": "light"
     },
     "output_type": "display_data"
    }
   ],
   "source": [
    "x=3 # Чтобы построить диаграмму в разных осях, меняйте номера столбцов\n",
    "y=2 #\n",
    "plt.figure(figsize=(6, 4))\n",
    "plt.scatter(dataNorm[:,x], dataNorm[:,y], c=clusters, cmap='flag')\n",
    "plt.xlabel(col[x])\n",
    "plt.ylabel(col[y]);\n",
    "plt.show()\n",
    "\n",
    "x=4 # Чтобы построить диаграмму в разных осях, меняйте номера столбцов\n",
    "y=2 #\n",
    "plt.figure(figsize=(6, 4))\n",
    "plt.scatter(dataNorm[:,x], dataNorm[:,y], c=clusters, cmap='flag')\n",
    "plt.xlabel(col[x])\n",
    "plt.ylabel(col[y]);\n",
    "plt.show()"
   ]
  },
  {
   "cell_type": "code",
   "execution_count": 43,
   "id": "e99d5691",
   "metadata": {},
   "outputs": [
    {
     "data": {
      "image/png": "[encoded data removed]",
      "text/plain": [
       "<Figure size 432x288 with 1 Axes>"
      ]
     },
     "metadata": {
      "needs_background": "light"
     },
     "output_type": "display_data"
    }
   ],
   "source": [
    "x=3 # Чтобы построить диаграмму в разных осях, меняйте номера столбцов\n",
    "y=5 #\n",
    "plt.figure(figsize=(6, 4))\n",
    "plt.scatter(dataNorm[:,x], dataNorm[:,y], c=clusters, cmap='flag')\n",
    "plt.xlabel(col[x])\n",
    "plt.ylabel(col[y]);\n",
    "plt.show()"
   ]
  },
  {
   "cell_type": "code",
   "execution_count": 44,
   "id": "74b47dd8",
   "metadata": {},
   "outputs": [
    {
     "data": {
      "text/html": [
       "<div>\n",
       "<style scoped>\n",
       "    .dataframe tbody tr th:only-of-type {\n",
       "        vertical-align: middle;\n",
       "    }\n",
       "\n",
       "    .dataframe tbody tr th {\n",
       "        vertical-align: top;\n",
       "    }\n",
       "\n",
       "    .dataframe thead th {\n",
       "        text-align: right;\n",
       "    }\n",
       "</style>\n",
       "<table border=\"1\" class=\"dataframe\">\n",
       "  <thead>\n",
       "    <tr style=\"text-align: right;\">\n",
       "      <th></th>\n",
       "      <th>Офшорні статки</th>\n",
       "      <th>ВВП на душу насел</th>\n",
       "      <th>Загальні податкові втрати</th>\n",
       "      <th>Втрати від под. уникнення</th>\n",
       "      <th>Втрати від под. ухилення</th>\n",
       "      <th>Податк. надходження</th>\n",
       "      <th>Количество</th>\n",
       "    </tr>\n",
       "    <tr>\n",
       "      <th>I</th>\n",
       "      <th></th>\n",
       "      <th></th>\n",
       "      <th></th>\n",
       "      <th></th>\n",
       "      <th></th>\n",
       "      <th></th>\n",
       "      <th></th>\n",
       "    </tr>\n",
       "  </thead>\n",
       "  <tbody>\n",
       "    <tr>\n",
       "      <th>1</th>\n",
       "      <td>7265.550210</td>\n",
       "      <td>19910.5625</td>\n",
       "      <td>162.733325</td>\n",
       "      <td>34.225604</td>\n",
       "      <td>128.507721</td>\n",
       "      <td>4037.443128</td>\n",
       "      <td>16</td>\n",
       "    </tr>\n",
       "    <tr>\n",
       "      <th>2</th>\n",
       "      <td>4057.373158</td>\n",
       "      <td>38976.0000</td>\n",
       "      <td>312.834632</td>\n",
       "      <td>220.056993</td>\n",
       "      <td>92.777639</td>\n",
       "      <td>10661.420533</td>\n",
       "      <td>3</td>\n",
       "    </tr>\n",
       "    <tr>\n",
       "      <th>3</th>\n",
       "      <td>8753.129449</td>\n",
       "      <td>49141.6000</td>\n",
       "      <td>304.303692</td>\n",
       "      <td>74.247281</td>\n",
       "      <td>230.056411</td>\n",
       "      <td>14409.561103</td>\n",
       "      <td>5</td>\n",
       "    </tr>\n",
       "    <tr>\n",
       "      <th>4</th>\n",
       "      <td>7066.733072</td>\n",
       "      <td>60494.0000</td>\n",
       "      <td>319.457344</td>\n",
       "      <td>122.052712</td>\n",
       "      <td>197.404632</td>\n",
       "      <td>27047.243287</td>\n",
       "      <td>1</td>\n",
       "    </tr>\n",
       "    <tr>\n",
       "      <th>5</th>\n",
       "      <td>125178.887539</td>\n",
       "      <td>83850.0000</td>\n",
       "      <td>3046.305667</td>\n",
       "      <td>41.941359</td>\n",
       "      <td>3004.364307</td>\n",
       "      <td>13686.173029</td>\n",
       "      <td>1</td>\n",
       "    </tr>\n",
       "    <tr>\n",
       "      <th>6</th>\n",
       "      <td>813101.818939</td>\n",
       "      <td>116921.0000</td>\n",
       "      <td>19570.584732</td>\n",
       "      <td>959.767058</td>\n",
       "      <td>18610.817675</td>\n",
       "      <td>30058.989453</td>\n",
       "      <td>1</td>\n",
       "    </tr>\n",
       "  </tbody>\n",
       "</table>\n",
       "</div>"
      ],
      "text/plain": [
       "   Офшорні статки  ВВП на душу насел  Загальні податкові втрати  \\\n",
       "I                                                                 \n",
       "1     7265.550210         19910.5625                 162.733325   \n",
       "2     4057.373158         38976.0000                 312.834632   \n",
       "3     8753.129449         49141.6000                 304.303692   \n",
       "4     7066.733072         60494.0000                 319.457344   \n",
       "5   125178.887539         83850.0000                3046.305667   \n",
       "6   813101.818939        116921.0000               19570.584732   \n",
       "\n",
       "   Втрати від под. уникнення  Втрати від под. ухилення  Податк. надходження  \\\n",
       "I                                                                             \n",
       "1                  34.225604                128.507721          4037.443128   \n",
       "2                 220.056993                 92.777639         10661.420533   \n",
       "3                  74.247281                230.056411         14409.561103   \n",
       "4                 122.052712                197.404632         27047.243287   \n",
       "5                  41.941359               3004.364307         13686.173029   \n",
       "6                 959.767058              18610.817675         30058.989453   \n",
       "\n",
       "   Количество  \n",
       "I              \n",
       "1          16  \n",
       "2           3  \n",
       "3           5  \n",
       "4           1  \n",
       "5           1  \n",
       "6           1  "
      ]
     },
     "execution_count": 44,
     "metadata": {},
     "output_type": "execute_result"
    }
   ],
   "source": [
    "# к оригинальным данным добавляем номер кластера\n",
    "df['I']=clusters\n",
    "res=df.groupby('I')[col].mean()\n",
    "res['Количество']=df.groupby('I').size().values\n",
    "res #ниже средние цифры по кластерам и количество объектов (Количество)"
   ]
  },
  {
   "cell_type": "code",
   "execution_count": 45,
   "id": "d13f05a4",
   "metadata": {},
   "outputs": [
    {
     "data": {
      "text/html": [
       "<div>\n",
       "<style scoped>\n",
       "    .dataframe tbody tr th:only-of-type {\n",
       "        vertical-align: middle;\n",
       "    }\n",
       "\n",
       "    .dataframe tbody tr th {\n",
       "        vertical-align: top;\n",
       "    }\n",
       "\n",
       "    .dataframe thead th {\n",
       "        text-align: right;\n",
       "    }\n",
       "</style>\n",
       "<table border=\"1\" class=\"dataframe\">\n",
       "  <thead>\n",
       "    <tr style=\"text-align: right;\">\n",
       "      <th></th>\n",
       "      <th>Країна</th>\n",
       "      <th>Офшорні статки</th>\n",
       "      <th>ВВП на душу насел</th>\n",
       "      <th>Загальні податкові втрати</th>\n",
       "      <th>Втрати від под. уникнення</th>\n",
       "      <th>Втрати від под. ухилення</th>\n",
       "      <th>Податк. надходження</th>\n",
       "      <th>I</th>\n",
       "    </tr>\n",
       "  </thead>\n",
       "  <tbody>\n",
       "    <tr>\n",
       "      <th>6</th>\n",
       "      <td>Ірландія</td>\n",
       "      <td>125178.887539</td>\n",
       "      <td>83850</td>\n",
       "      <td>3046.305667</td>\n",
       "      <td>41.941359</td>\n",
       "      <td>3004.364307</td>\n",
       "      <td>13686.173029</td>\n",
       "      <td>5</td>\n",
       "    </tr>\n",
       "  </tbody>\n",
       "</table>\n",
       "</div>"
      ],
      "text/plain": [
       "     Країна  Офшорні статки  ВВП на душу насел  Загальні податкові втрати  \\\n",
       "6  Ірландія   125178.887539              83850                3046.305667   \n",
       "\n",
       "   Втрати від под. уникнення  Втрати від под. ухилення  Податк. надходження  I  \n",
       "6                  41.941359               3004.364307         13686.173029  5  "
      ]
     },
     "execution_count": 45,
     "metadata": {},
     "output_type": "execute_result"
    }
   ],
   "source": [
    "df[df['I']==5] # !!!!! меняйте номер кластера"
   ]
  },
  {
   "cell_type": "code",
   "execution_count": 46,
   "id": "64d43201",
   "metadata": {},
   "outputs": [
    {
     "data": {
      "text/html": [
       "<div>\n",
       "<style scoped>\n",
       "    .dataframe tbody tr th:only-of-type {\n",
       "        vertical-align: middle;\n",
       "    }\n",
       "\n",
       "    .dataframe tbody tr th {\n",
       "        vertical-align: top;\n",
       "    }\n",
       "\n",
       "    .dataframe thead th {\n",
       "        text-align: right;\n",
       "    }\n",
       "</style>\n",
       "<table border=\"1\" class=\"dataframe\">\n",
       "  <thead>\n",
       "    <tr style=\"text-align: right;\">\n",
       "      <th></th>\n",
       "      <th>Країна</th>\n",
       "      <th>Офшорні статки</th>\n",
       "      <th>ВВП на душу насел</th>\n",
       "      <th>Загальні податкові втрати</th>\n",
       "      <th>Втрати від под. уникнення</th>\n",
       "      <th>Втрати від под. ухилення</th>\n",
       "      <th>Податк. надходження</th>\n",
       "      <th>I</th>\n",
       "    </tr>\n",
       "  </thead>\n",
       "  <tbody>\n",
       "    <tr>\n",
       "      <th>12</th>\n",
       "      <td>Люксембург</td>\n",
       "      <td>813101.818939</td>\n",
       "      <td>116921</td>\n",
       "      <td>19570.584732</td>\n",
       "      <td>959.767058</td>\n",
       "      <td>18610.817675</td>\n",
       "      <td>30058.989453</td>\n",
       "      <td>6</td>\n",
       "    </tr>\n",
       "  </tbody>\n",
       "</table>\n",
       "</div>"
      ],
      "text/plain": [
       "        Країна  Офшорні статки  ВВП на душу насел  Загальні податкові втрати  \\\n",
       "12  Люксембург   813101.818939             116921               19570.584732   \n",
       "\n",
       "    Втрати від под. уникнення  Втрати від под. ухилення  Податк. надходження  \\\n",
       "12                 959.767058              18610.817675         30058.989453   \n",
       "\n",
       "    I  \n",
       "12  6  "
      ]
     },
     "execution_count": 46,
     "metadata": {},
     "output_type": "execute_result"
    }
   ],
   "source": [
    "df[df['I']==6] # !!!!! меняйте номер кластера"
   ]
  },
  {
   "cell_type": "code",
   "execution_count": 47,
   "id": "f6fb74e0",
   "metadata": {},
   "outputs": [
    {
     "data": {
      "text/html": [
       "<div>\n",
       "<style scoped>\n",
       "    .dataframe tbody tr th:only-of-type {\n",
       "        vertical-align: middle;\n",
       "    }\n",
       "\n",
       "    .dataframe tbody tr th {\n",
       "        vertical-align: top;\n",
       "    }\n",
       "\n",
       "    .dataframe thead th {\n",
       "        text-align: right;\n",
       "    }\n",
       "</style>\n",
       "<table border=\"1\" class=\"dataframe\">\n",
       "  <thead>\n",
       "    <tr style=\"text-align: right;\">\n",
       "      <th></th>\n",
       "      <th>Країна</th>\n",
       "      <th>Офшорні статки</th>\n",
       "      <th>ВВП на душу насел</th>\n",
       "      <th>Загальні податкові втрати</th>\n",
       "      <th>Втрати від под. уникнення</th>\n",
       "      <th>Втрати від под. ухилення</th>\n",
       "      <th>Податк. надходження</th>\n",
       "      <th>I</th>\n",
       "    </tr>\n",
       "  </thead>\n",
       "  <tbody>\n",
       "    <tr>\n",
       "      <th>8</th>\n",
       "      <td>Італія</td>\n",
       "      <td>2761.864595</td>\n",
       "      <td>31288</td>\n",
       "      <td>205.437420</td>\n",
       "      <td>146.049191</td>\n",
       "      <td>59.388229</td>\n",
       "      <td>10191.999083</td>\n",
       "      <td>2</td>\n",
       "    </tr>\n",
       "    <tr>\n",
       "      <th>15</th>\n",
       "      <td>Німеччина</td>\n",
       "      <td>5795.701595</td>\n",
       "      <td>45733</td>\n",
       "      <td>428.550425</td>\n",
       "      <td>298.152224</td>\n",
       "      <td>130.398201</td>\n",
       "      <td>10333.961753</td>\n",
       "      <td>2</td>\n",
       "    </tr>\n",
       "    <tr>\n",
       "      <th>23</th>\n",
       "      <td>Франція</td>\n",
       "      <td>3614.553283</td>\n",
       "      <td>39907</td>\n",
       "      <td>304.516052</td>\n",
       "      <td>215.969564</td>\n",
       "      <td>88.546488</td>\n",
       "      <td>11458.300763</td>\n",
       "      <td>2</td>\n",
       "    </tr>\n",
       "  </tbody>\n",
       "</table>\n",
       "</div>"
      ],
      "text/plain": [
       "       Країна  Офшорні статки  ВВП на душу насел  Загальні податкові втрати  \\\n",
       "8      Італія     2761.864595              31288                 205.437420   \n",
       "15  Німеччина     5795.701595              45733                 428.550425   \n",
       "23    Франція     3614.553283              39907                 304.516052   \n",
       "\n",
       "    Втрати від под. уникнення  Втрати від под. ухилення  Податк. надходження  \\\n",
       "8                  146.049191                 59.388229         10191.999083   \n",
       "15                 298.152224                130.398201         10333.961753   \n",
       "23                 215.969564                 88.546488         11458.300763   \n",
       "\n",
       "    I  \n",
       "8   2  \n",
       "15  2  \n",
       "23  2  "
      ]
     },
     "execution_count": 47,
     "metadata": {},
     "output_type": "execute_result"
    }
   ],
   "source": [
    "df[df['I']==2] # !!!!! меняйте номер кластера"
   ]
  },
  {
   "cell_type": "code",
   "execution_count": null,
   "id": "27425fb5",
   "metadata": {},
   "outputs": [],
   "source": []
  }
 ],
 "metadata": {
  "kernelspec": {
   "display_name": "Python 3",
   "language": "python",
   "name": "python3"
  },
  "language_info": {
   "codemirror_mode": {
    "name": "ipython",
    "version": 3
   },
   "file_extension": ".py",
   "mimetype": "text/x-python",
   "name": "python",
   "nbconvert_exporter": "python",
   "pygments_lexer": "ipython3",
   "version": "3.8.8"
  }
 },
 "nbformat": 4,
 "nbformat_minor": 5
}
